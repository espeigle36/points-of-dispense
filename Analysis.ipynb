{
 "cells": [
  {
   "cell_type": "markdown",
   "metadata": {},
   "source": [
    "## Analysis"
   ]
  },
  {
   "cell_type": "code",
   "execution_count": 74,
   "metadata": {},
   "outputs": [],
   "source": [
    "import pandas as pd\n",
    "import numpy as np\n",
    "import matplotlib.pyplot as plt\n",
    "import pickle\n",
    "%matplotlib inline"
   ]
  },
  {
   "cell_type": "code",
   "execution_count": 75,
   "metadata": {},
   "outputs": [],
   "source": [
    "distances = pd.read_csv('data/OD_Pairs_Distances.csv')\n",
    "population = pd.read_excel('data/BG_master.xlsx')\n",
    "bg_included = pd.read_csv('data/bg_pop_included.csv')"
   ]
  },
  {
   "cell_type": "code",
   "execution_count": 76,
   "metadata": {},
   "outputs": [],
   "source": [
    "dist_miles = distances.pivot(index='block_group', columns='pod_id', values='Miles')"
   ]
  },
  {
   "cell_type": "code",
   "execution_count": 77,
   "metadata": {},
   "outputs": [],
   "source": [
    "dist = dist_miles.values\n",
    "N = population['population'].values\n",
    "prop = bg_included['all_included'].values"
   ]
  },
  {
   "cell_type": "code",
   "execution_count": 78,
   "metadata": {},
   "outputs": [],
   "source": [
    "infile = open('pods_open_total','rb')\n",
    "pods_total = pickle.load(infile)\n",
    "infile.close()"
   ]
  },
  {
   "cell_type": "code",
   "execution_count": 84,
   "metadata": {},
   "outputs": [],
   "source": [
    "infile = open('pods_open_minmax','rb')\n",
    "pods_minmax = pickle.load(infile)\n",
    "infile.close()"
   ]
  },
  {
   "cell_type": "markdown",
   "metadata": {},
   "source": [
    "### Comparing average and maximum distance by PODs opened"
   ]
  },
  {
   "cell_type": "code",
   "execution_count": 85,
   "metadata": {},
   "outputs": [],
   "source": [
    "dist_compare = {'num_pods':[],\n",
    "                'max_dist_total':[],\n",
    "                'max_dist_minmax':[],\n",
    "                'avg_dist_total':[],\n",
    "                'avg_dist_minmax':[]}\n",
    "\n",
    "for k in pods_total.keys():\n",
    "    dist_compare['num_pods'].append(k)\n",
    "    \n",
    "    # Minimize total distance\n",
    "    total_list = [N[j] * [dist[j,i]] for [j,i] in pods_total[k]]\n",
    "    total_list_flat = [item for sublist in total_list for item in sublist]\n",
    "    avg_total = sum(total_list_flat)/len(total_list_flat)\n",
    "    max_total = max(total_list_flat)\n",
    "    \n",
    "    # Minimize maximum distance\n",
    "    minmax_list = [N[j] * [dist[j,i]] for [j,i] in pods_minmax[k]]\n",
    "    minmax_list_flat = [item for sublist in minmax_list for item in sublist]\n",
    "    avg_minmax = sum(minmax_list_flat)/len(minmax_list_flat)\n",
    "    max_minmax = max(minmax_list_flat)\n",
    "    \n",
    "    dist_compare['max_dist_total'].append(max_total)\n",
    "    dist_compare['max_dist_minmax'].append(max_minmax)\n",
    "    dist_compare['avg_dist_total'].append(avg_total)\n",
    "    dist_compare['avg_dist_minmax'].append(avg_minmax)"
   ]
  },
  {
   "cell_type": "code",
   "execution_count": 88,
   "metadata": {},
   "outputs": [],
   "source": [
    "dist_df = pd.DataFrame(dist_compare)"
   ]
  },
  {
   "cell_type": "code",
   "execution_count": 89,
   "metadata": {},
   "outputs": [
    {
     "data": {
      "text/html": [
       "<div>\n",
       "<style scoped>\n",
       "    .dataframe tbody tr th:only-of-type {\n",
       "        vertical-align: middle;\n",
       "    }\n",
       "\n",
       "    .dataframe tbody tr th {\n",
       "        vertical-align: top;\n",
       "    }\n",
       "\n",
       "    .dataframe thead th {\n",
       "        text-align: right;\n",
       "    }\n",
       "</style>\n",
       "<table border=\"1\" class=\"dataframe\">\n",
       "  <thead>\n",
       "    <tr style=\"text-align: right;\">\n",
       "      <th></th>\n",
       "      <th>num_pods</th>\n",
       "      <th>max_dist_total</th>\n",
       "      <th>max_dist_minmax</th>\n",
       "      <th>avg_dist_total</th>\n",
       "      <th>avg_dist_minmax</th>\n",
       "    </tr>\n",
       "  </thead>\n",
       "  <tbody>\n",
       "    <tr>\n",
       "      <th>0</th>\n",
       "      <td>10</td>\n",
       "      <td>11.980543</td>\n",
       "      <td>9.035404</td>\n",
       "      <td>4.079687</td>\n",
       "      <td>4.997015</td>\n",
       "    </tr>\n",
       "    <tr>\n",
       "      <th>1</th>\n",
       "      <td>11</td>\n",
       "      <td>11.980543</td>\n",
       "      <td>8.611634</td>\n",
       "      <td>3.925553</td>\n",
       "      <td>5.492062</td>\n",
       "    </tr>\n",
       "    <tr>\n",
       "      <th>2</th>\n",
       "      <td>12</td>\n",
       "      <td>11.980543</td>\n",
       "      <td>8.502998</td>\n",
       "      <td>3.771784</td>\n",
       "      <td>4.842447</td>\n",
       "    </tr>\n",
       "    <tr>\n",
       "      <th>3</th>\n",
       "      <td>13</td>\n",
       "      <td>11.980543</td>\n",
       "      <td>8.035054</td>\n",
       "      <td>3.627613</td>\n",
       "      <td>4.876027</td>\n",
       "    </tr>\n",
       "    <tr>\n",
       "      <th>4</th>\n",
       "      <td>14</td>\n",
       "      <td>11.980543</td>\n",
       "      <td>7.951104</td>\n",
       "      <td>3.485437</td>\n",
       "      <td>4.552515</td>\n",
       "    </tr>\n",
       "  </tbody>\n",
       "</table>\n",
       "</div>"
      ],
      "text/plain": [
       "   num_pods  max_dist_total  max_dist_minmax  avg_dist_total  avg_dist_minmax\n",
       "0        10       11.980543         9.035404        4.079687         4.997015\n",
       "1        11       11.980543         8.611634        3.925553         5.492062\n",
       "2        12       11.980543         8.502998        3.771784         4.842447\n",
       "3        13       11.980543         8.035054        3.627613         4.876027\n",
       "4        14       11.980543         7.951104        3.485437         4.552515"
      ]
     },
     "execution_count": 89,
     "metadata": {},
     "output_type": "execute_result"
    }
   ],
   "source": [
    "dist_df.head()"
   ]
  },
  {
   "cell_type": "code",
   "execution_count": 90,
   "metadata": {},
   "outputs": [],
   "source": [
    "cols = ['max_dist_total','max_dist_minmax','avg_dist_total','avg_dist_minmax']"
   ]
  },
  {
   "cell_type": "code",
   "execution_count": 91,
   "metadata": {},
   "outputs": [
    {
     "data": {
      "image/png": "[encoded data removed]",
      "text/plain": [
       "<Figure size 432x288 with 1 Axes>"
      ]
     },
     "metadata": {
      "needs_background": "light"
     },
     "output_type": "display_data"
    }
   ],
   "source": [
    "plt.plot(dist_df['num_pods'], dist_df[cols])\n",
    "plt.title('Distance by Number of PODs Opened')\n",
    "# add axis labels\n",
    "plt.legend(cols)\n",
    "plt.show()"
   ]
  },
  {
   "cell_type": "markdown",
   "metadata": {},
   "source": [
    "### Histograms"
   ]
  },
  {
   "cell_type": "code",
   "execution_count": null,
   "metadata": {},
   "outputs": [],
   "source": []
  },
  {
   "cell_type": "markdown",
   "metadata": {},
   "source": [
    "### POD capacity"
   ]
  },
  {
   "cell_type": "code",
   "execution_count": null,
   "metadata": {},
   "outputs": [],
   "source": [
    "# capacity_pod_all = [[N[j], i] for [j,i] in block_pod_list]"
   ]
  },
  {
   "cell_type": "code",
   "execution_count": null,
   "metadata": {},
   "outputs": [],
   "source": [
    "# capacity_pod = {}\n",
    "# for [N, i] in capacity_pod_all:\n",
    "#     if i not in capacity_pod:\n",
    "#         capacity_pod[i] = N\n",
    "#     else:\n",
    "#         capacity_pod[i] += N"
   ]
  },
  {
   "cell_type": "code",
   "execution_count": null,
   "metadata": {},
   "outputs": [],
   "source": [
    "# max(capacity_pod.values())"
   ]
  },
  {
   "cell_type": "code",
   "execution_count": null,
   "metadata": {},
   "outputs": [],
   "source": [
    "# min(capacity_pod.values())"
   ]
  },
  {
   "cell_type": "code",
   "execution_count": null,
   "metadata": {},
   "outputs": [],
   "source": []
  }
 ],
 "metadata": {
  "kernelspec": {
   "display_name": "Python 3",
   "language": "python",
   "name": "python3"
  },
  "language_info": {
   "codemirror_mode": {
    "name": "ipython",
    "version": 3
   },
   "file_extension": ".py",
   "mimetype": "text/x-python",
   "name": "python",
   "nbconvert_exporter": "python",
   "pygments_lexer": "ipython3",
   "version": "3.7.6"
  }
 },
 "nbformat": 4,
 "nbformat_minor": 4
}
