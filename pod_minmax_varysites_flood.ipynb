{
 "cells": [
  {
   "cell_type": "markdown",
   "metadata": {},
   "source": [
    "# Points of Dispense - Flooding in Eastern Allegheny County\n",
    "#### Minimize maximum distance and vary number of PODs\n",
    "Maxwell Kennady, Nora Murray, Elizabeth Speigle"
   ]
  },
  {
   "cell_type": "code",
   "execution_count": 38,
   "metadata": {},
   "outputs": [],
   "source": [
    "import gurobipy as gp\n",
    "from gurobipy import GRB\n",
    "import pandas as pd\n",
    "import numpy as np\n",
    "import matplotlib.pyplot as plt\n",
    "import pickle\n",
    "%matplotlib inline"
   ]
  },
  {
   "cell_type": "markdown",
   "metadata": {},
   "source": [
    "### Optimization"
   ]
  },
  {
   "cell_type": "markdown",
   "metadata": {},
   "source": [
    "Read in data from files"
   ]
  },
  {
   "cell_type": "code",
   "execution_count": 39,
   "metadata": {},
   "outputs": [],
   "source": [
    "distances = pd.read_csv('data/OD_Pairs_Distances.csv')\n",
    "population = pd.read_excel('data/BG_master.xlsx')"
   ]
  },
  {
   "cell_type": "code",
   "execution_count": 40,
   "metadata": {},
   "outputs": [],
   "source": [
    "dist_miles = distances.pivot(index='block_group', columns='pod_id', values='Miles')\n",
    "dist_time = distances.pivot(index='block_group', columns='pod_id', values='TravelTime')"
   ]
  },
  {
   "cell_type": "code",
   "execution_count": 41,
   "metadata": {},
   "outputs": [],
   "source": [
    "dist = dist_miles.values\n",
    "N = population['population'].values\n",
    "prop = population['flood'].values"
   ]
  },
  {
   "cell_type": "markdown",
   "metadata": {},
   "source": [
    "Create indices for block groups and PODs"
   ]
  },
  {
   "cell_type": "code",
   "execution_count": 42,
   "metadata": {},
   "outputs": [],
   "source": [
    "blocks = range(len(N))\n",
    "pods = range(len(dist[0]))"
   ]
  },
  {
   "cell_type": "markdown",
   "metadata": {},
   "source": [
    "Initialize model for POD locations"
   ]
  },
  {
   "cell_type": "code",
   "execution_count": 43,
   "metadata": {},
   "outputs": [],
   "source": [
    "pods_open = range(1,48)\n",
    "pods_open_results = {}"
   ]
  },
  {
   "cell_type": "code",
   "execution_count": 49,
   "metadata": {
    "scrolled": true
   },
   "outputs": [
    {
     "name": "stdout",
     "output_type": "stream",
     "text": [
      "Solving for: 47 PODs\n",
      "Gurobi Optimizer version 9.0.0 build v9.0.0rc2 (win64)\n",
      "Optimize a model with 53901 rows, 52848 columns and 156247 nonzeros\n",
      "Model fingerprint: 0x49f1a420\n",
      "Model has 51700 quadratic constraints\n",
      "Variable types: 1 continuous, 52847 integer (52847 binary)\n",
      "Coefficient statistics:\n",
      "  Matrix range     [1e+00, 1e+03]\n",
      "  QMatrix range    [8e-02, 4e+01]\n",
      "  QLMatrix range   [1e+00, 1e+00]\n",
      "  Objective range  [1e+00, 1e+00]\n",
      "  Bounds range     [1e+00, 1e+00]\n",
      "  RHS range        [1e+00, 5e+01]\n",
      "Presolve removed 52801 rows and 87 columns (presolve time = 30s) ...\n",
      "Presolve removed 50921 rows and 87 columns\n",
      "Presolve time: 29.72s\n",
      "Presolved: 2980 rows, 52761 columns, 55460 nonzeros\n",
      "Presolved model has 49820 quadratic constraint(s)\n",
      "Variable types: 1 continuous, 52760 integer (52760 binary)\n",
      "\n",
      "Root simplex log...\n",
      "\n",
      "Iteration    Objective       Primal Inf.    Dual Inf.      Time\n",
      "       0    0.0000000e+00   1.100000e+03   0.000000e+00     30s\n",
      "    3503    4.1990097e-01   0.000000e+00   0.000000e+00     30s\n",
      "\n",
      "Root relaxation: objective 4.199010e-01, 3503 iterations, 0.06 seconds\n",
      "\n",
      "    Nodes    |    Current Node    |     Objective Bounds      |     Work\n",
      " Expl Unexpl |  Obj  Depth IntInf | Incumbent    BestBd   Gap | It/Node Time\n",
      "\n",
      "     0     0    0.41990    0 1041          -    0.41990      -     -   30s\n",
      "H    0     0                       3.8015884    0.41990  89.0%     -   30s\n",
      "     0     0    0.42441    0 1080    3.80159    0.42441  88.8%     -   30s\n",
      "     0     0    0.42905    0 1073    3.80159    0.42905  88.7%     -   31s\n",
      "     0     0    0.43388    0 1062    3.80159    0.43388  88.6%     -   31s\n",
      "H    0     0                       3.7271557    0.43388  88.4%     -   31s\n",
      "     0     0    0.43884    0 1056    3.72716    0.43884  88.2%     -   31s\n",
      "     0     0    0.43884    0 1055    3.72716    0.43884  88.2%     -   31s\n",
      "     0     0    0.43884    0 1054    3.72716    0.43884  88.2%     -   31s\n",
      "     0     0    0.43884    0 1054    3.72716    0.43884  88.2%     -   32s\n",
      "     0     2    0.43884    0 1054    3.72716    0.43884  88.2%     -   32s\n",
      "   266    29    3.54830   56  261    3.72716    2.05140  45.0%  19.5   82s\n",
      "   817    76    3.54830  149  247    3.72716    2.05140  45.0%   8.1   85s\n",
      "  1670   145    3.58393  292  241    3.72716    2.05140  45.0%   5.4   90s\n",
      "\n",
      "Cutting planes:\n",
      "  MIR: 340\n",
      "\n",
      "Explored 2090 nodes (19948 simplex iterations) in 416.47 seconds\n",
      "Thread count was 12 (of 12 available processors)\n",
      "\n",
      "Solution count 2: 3.72716 \n",
      "\n",
      "Solve interrupted (error code 10001)\n",
      "Best objective 3.727155741000e+00, best bound 2.051401052000e+00, gap 44.9607%\n"
     ]
    },
    {
     "ename": "GurobiError",
     "evalue": "Out of memory",
     "output_type": "error",
     "traceback": [
      "\u001b[1;31m---------------------------------------------------------------------------\u001b[0m",
      "\u001b[1;31mGurobiError\u001b[0m                               Traceback (most recent call last)",
      "\u001b[1;32m<ipython-input-49-e2bfc830d261>\u001b[0m in \u001b[0;36m<module>\u001b[1;34m\u001b[0m\n\u001b[0;32m     33\u001b[0m     \u001b[1;31m### Optimize\u001b[0m\u001b[1;33m\u001b[0m\u001b[1;33m\u001b[0m\u001b[1;33m\u001b[0m\u001b[0m\n\u001b[0;32m     34\u001b[0m     \u001b[0mprint\u001b[0m\u001b[1;33m(\u001b[0m\u001b[1;34m'Solving for:'\u001b[0m\u001b[1;33m,\u001b[0m \u001b[0mi\u001b[0m\u001b[1;33m,\u001b[0m \u001b[1;34m'PODs'\u001b[0m\u001b[1;33m)\u001b[0m\u001b[1;33m\u001b[0m\u001b[1;33m\u001b[0m\u001b[0m\n\u001b[1;32m---> 35\u001b[1;33m     \u001b[0mm\u001b[0m\u001b[1;33m.\u001b[0m\u001b[0moptimize\u001b[0m\u001b[1;33m(\u001b[0m\u001b[1;33m)\u001b[0m\u001b[1;33m\u001b[0m\u001b[1;33m\u001b[0m\u001b[0m\n\u001b[0m\u001b[0;32m     36\u001b[0m \u001b[1;33m\u001b[0m\u001b[0m\n\u001b[0;32m     37\u001b[0m     \u001b[1;31m### Analysis\u001b[0m\u001b[1;33m\u001b[0m\u001b[1;33m\u001b[0m\u001b[1;33m\u001b[0m\u001b[0m\n",
      "\u001b[1;32mmodel.pxi\u001b[0m in \u001b[0;36mgurobipy.Model.optimize\u001b[1;34m()\u001b[0m\n",
      "\u001b[1;31mGurobiError\u001b[0m: Out of memory"
     ]
    }
   ],
   "source": [
    "for i in pods_open: \n",
    "    ### Initialize model for POD locations\n",
    "    m = gp.Model('POD_locations')\n",
    "    \n",
    "    ### Add decision variables\n",
    "    x = m.addVars(pods, vtype=GRB.BINARY, name='x')\n",
    "    y = m.addVars(blocks, pods, vtype=GRB.BINARY, name='y')\n",
    "    w = m.addVars(blocks, vtype=GRB.BINARY, name='w')\n",
    "    \n",
    "    ### Set objective to minimize maximum distance\n",
    "    z = m.addVar(vtype=GRB.CONTINUOUS, name='z')\n",
    "    m.setObjective(z, GRB.MINIMIZE)\n",
    "    \n",
    "    ### Add constraints\n",
    "    #  y[i,j] can only be 1 if x[i] is also 1, meaning POD i is opened\n",
    "    m.addConstrs((y[j, i] <= x[i] for i in pods for j in blocks), name='y_if_x')\n",
    "    \n",
    "    # each block group must be assigned one shelter\n",
    "    m.addConstrs((gp.quicksum(y[j, i] for i in pods) == 1\n",
    "             for j in blocks), name='all_blocks_assigned')\n",
    "    \n",
    "    # number of PODs opened must be less than num_pods\n",
    "    m.addConstr((gp.quicksum(x[i] for i in pods) <= i), name='pods_opened')\n",
    "    \n",
    "    # w[j] should be 1 if prop[j] is not zero, and zero otherwise\n",
    "    m.addConstrs((w[j] * 999 >= prop[j] for j in blocks), \n",
    "                 name='Prop_Above_Zero')\n",
    "    \n",
    "    # maximum distance\n",
    "    m.addConstrs((z >= dist[j, i] * w[j] * y[j, i] for i in pods for j in blocks), \n",
    "                 name='Distance_Below_Max')\n",
    "    \n",
    "    ### Optimize\n",
    "    print('Solving for:', i, 'PODs')\n",
    "    m.optimize()\n",
    "    \n",
    "    ### Analysis\n",
    "    block_pod_list = [[j,i] for j in blocks for i in pods if y[j, i].x==1]\n",
    "    pods_open_results[i] = block_pod_list"
   ]
  },
  {
   "cell_type": "code",
   "execution_count": 51,
   "metadata": {},
   "outputs": [],
   "source": [
    "pods_flood_minmax = open('pods_flood_minmax','wb')\n",
    "pickle.dump(pods_open_results, pods_flood_minmax)\n",
    "pods_flood_minmax.close()"
   ]
  },
  {
   "cell_type": "code",
   "execution_count": null,
   "metadata": {},
   "outputs": [],
   "source": []
  }
 ],
 "metadata": {
  "kernelspec": {
   "display_name": "Python 3",
   "language": "python",
   "name": "python3"
  },
  "language_info": {
   "codemirror_mode": {
    "name": "ipython",
    "version": 3
   },
   "file_extension": ".py",
   "mimetype": "text/x-python",
   "name": "python",
   "nbconvert_exporter": "python",
   "pygments_lexer": "ipython3",
   "version": "3.7.6"
  }
 },
 "nbformat": 4,
 "nbformat_minor": 4
}
