{
 "cells": [
  {
   "cell_type": "markdown",
   "metadata": {},
   "source": [
    "## Points of Dispense Analysis\n",
    "\n",
    "##### Maxwell Kennady, Nora Murray, Elizabeth Speigle"
   ]
  },
  {
   "cell_type": "code",
   "execution_count": 67,
   "metadata": {},
   "outputs": [],
   "source": [
    "import pandas as pd\n",
    "import numpy as np\n",
    "import matplotlib.pyplot as plt\n",
    "import pickle\n",
    "%matplotlib inline"
   ]
  },
  {
   "cell_type": "code",
   "execution_count": 68,
   "metadata": {},
   "outputs": [],
   "source": [
    "distances = pd.read_csv('data/OD_Pairs_Distances.csv')\n",
    "population = pd.read_excel('data/BG_master.xlsx')\n",
    "bg_included = pd.read_csv('data/bg_pop_included.csv')"
   ]
  },
  {
   "cell_type": "code",
   "execution_count": 69,
   "metadata": {},
   "outputs": [],
   "source": [
    "dist_miles = distances.pivot(index='block_group', columns='pod_id', values='Miles')"
   ]
  },
  {
   "cell_type": "code",
   "execution_count": 70,
   "metadata": {},
   "outputs": [],
   "source": [
    "dist = dist_miles.values\n",
    "N = population['population'].values"
   ]
  },
  {
   "cell_type": "code",
   "execution_count": 71,
   "metadata": {},
   "outputs": [],
   "source": [
    "infile = open('pods_open_total','rb')\n",
    "pods_total = pickle.load(infile)\n",
    "infile.close()"
   ]
  },
  {
   "cell_type": "code",
   "execution_count": 72,
   "metadata": {},
   "outputs": [],
   "source": [
    "infile = open('pods_open_minmax','rb')\n",
    "pods_minmax = pickle.load(infile)\n",
    "infile.close()"
   ]
  },
  {
   "cell_type": "code",
   "execution_count": 73,
   "metadata": {},
   "outputs": [],
   "source": [
    "infile = open('pods_flood_total','rb')\n",
    "pods_flood_total = pickle.load(infile)\n",
    "infile.close()"
   ]
  },
  {
   "cell_type": "code",
   "execution_count": 74,
   "metadata": {},
   "outputs": [],
   "source": [
    "infile = open('pods_flood_minmax','rb')\n",
    "pods_flood_minmax = pickle.load(infile)\n",
    "infile.close()"
   ]
  },
  {
   "cell_type": "markdown",
   "metadata": {},
   "source": [
    "### Comparing average and maximum distance by PODs opened"
   ]
  },
  {
   "cell_type": "code",
   "execution_count": 75,
   "metadata": {},
   "outputs": [],
   "source": [
    "dist_compare = {'num_pods':[],\n",
    "                'max_dist_total':[],\n",
    "                'max_dist_minmax':[],\n",
    "                'avg_dist_total':[],\n",
    "                'avg_dist_minmax':[]}\n",
    "\n",
    "for k in pods_total.keys():\n",
    "    dist_compare['num_pods'].append(k)\n",
    "    \n",
    "    # Minimize total distance\n",
    "    total_list = [N[j] * [dist[j,i]] for [j,i] in pods_total[k]]\n",
    "    total_list_flat = [item for sublist in total_list for item in sublist]\n",
    "    avg_total = sum(total_list_flat)/len(total_list_flat)\n",
    "    max_total = max(total_list_flat)\n",
    "    \n",
    "    # Minimize maximum distance\n",
    "    minmax_list = [N[j] * [dist[j,i]] for [j,i] in pods_minmax[k]]\n",
    "    minmax_list_flat = [item for sublist in minmax_list for item in sublist]\n",
    "    avg_minmax = sum(minmax_list_flat)/len(minmax_list_flat)\n",
    "    max_minmax = max(minmax_list_flat)\n",
    "    \n",
    "    dist_compare['max_dist_total'].append(max_total)\n",
    "    dist_compare['max_dist_minmax'].append(max_minmax)\n",
    "    dist_compare['avg_dist_total'].append(avg_total)\n",
    "    dist_compare['avg_dist_minmax'].append(avg_minmax)"
   ]
  },
  {
   "cell_type": "code",
   "execution_count": 76,
   "metadata": {},
   "outputs": [],
   "source": [
    "dist_df = pd.DataFrame(dist_compare)"
   ]
  },
  {
   "cell_type": "code",
   "execution_count": 77,
   "metadata": {},
   "outputs": [
    {
     "data": {
      "text/html": [
       "<div>\n",
       "<style scoped>\n",
       "    .dataframe tbody tr th:only-of-type {\n",
       "        vertical-align: middle;\n",
       "    }\n",
       "\n",
       "    .dataframe tbody tr th {\n",
       "        vertical-align: top;\n",
       "    }\n",
       "\n",
       "    .dataframe thead th {\n",
       "        text-align: right;\n",
       "    }\n",
       "</style>\n",
       "<table border=\"1\" class=\"dataframe\">\n",
       "  <thead>\n",
       "    <tr style=\"text-align: right;\">\n",
       "      <th></th>\n",
       "      <th>num_pods</th>\n",
       "      <th>max_dist_total</th>\n",
       "      <th>max_dist_minmax</th>\n",
       "      <th>avg_dist_total</th>\n",
       "      <th>avg_dist_minmax</th>\n",
       "    </tr>\n",
       "  </thead>\n",
       "  <tbody>\n",
       "    <tr>\n",
       "      <th>0</th>\n",
       "      <td>10</td>\n",
       "      <td>11.980543</td>\n",
       "      <td>9.035404</td>\n",
       "      <td>4.079687</td>\n",
       "      <td>4.997015</td>\n",
       "    </tr>\n",
       "    <tr>\n",
       "      <th>1</th>\n",
       "      <td>11</td>\n",
       "      <td>11.980543</td>\n",
       "      <td>8.611634</td>\n",
       "      <td>3.925553</td>\n",
       "      <td>5.492062</td>\n",
       "    </tr>\n",
       "    <tr>\n",
       "      <th>2</th>\n",
       "      <td>12</td>\n",
       "      <td>11.980543</td>\n",
       "      <td>8.502998</td>\n",
       "      <td>3.771784</td>\n",
       "      <td>4.842447</td>\n",
       "    </tr>\n",
       "    <tr>\n",
       "      <th>3</th>\n",
       "      <td>13</td>\n",
       "      <td>11.980543</td>\n",
       "      <td>8.035054</td>\n",
       "      <td>3.627613</td>\n",
       "      <td>4.876027</td>\n",
       "    </tr>\n",
       "    <tr>\n",
       "      <th>4</th>\n",
       "      <td>14</td>\n",
       "      <td>11.980543</td>\n",
       "      <td>7.951104</td>\n",
       "      <td>3.485437</td>\n",
       "      <td>4.552515</td>\n",
       "    </tr>\n",
       "  </tbody>\n",
       "</table>\n",
       "</div>"
      ],
      "text/plain": [
       "   num_pods  max_dist_total  max_dist_minmax  avg_dist_total  avg_dist_minmax\n",
       "0        10       11.980543         9.035404        4.079687         4.997015\n",
       "1        11       11.980543         8.611634        3.925553         5.492062\n",
       "2        12       11.980543         8.502998        3.771784         4.842447\n",
       "3        13       11.980543         8.035054        3.627613         4.876027\n",
       "4        14       11.980543         7.951104        3.485437         4.552515"
      ]
     },
     "execution_count": 77,
     "metadata": {},
     "output_type": "execute_result"
    }
   ],
   "source": [
    "dist_df.head()"
   ]
  },
  {
   "cell_type": "code",
   "execution_count": 78,
   "metadata": {},
   "outputs": [],
   "source": [
    "cols = ['max_dist_total','max_dist_minmax','avg_dist_total','avg_dist_minmax']"
   ]
  },
  {
   "cell_type": "code",
   "execution_count": 86,
   "metadata": {},
   "outputs": [
    {
     "data": {
      "image/png": "[encoded data removed]",
      "text/plain": [
       "<Figure size 576x432 with 1 Axes>"
      ]
     },
     "metadata": {
      "needs_background": "light"
     },
     "output_type": "display_data"
    }
   ],
   "source": [
    "plt.figure(figsize=(8,6))\n",
    "plt.plot(dist_df['num_pods'], dist_df[cols])\n",
    "plt.title('Distance by Number of PODs Opened')\n",
    "plt.ylabel('Miles from Block Group to POD')\n",
    "plt.xlabel('Number of PODs Opened')\n",
    "plt.legend(cols)\n",
    "plt.show()"
   ]
  },
  {
   "cell_type": "code",
   "execution_count": 33,
   "metadata": {},
   "outputs": [],
   "source": [
    "cols = ['max_dist_total','avg_dist_total']"
   ]
  },
  {
   "cell_type": "code",
   "execution_count": 35,
   "metadata": {},
   "outputs": [
    {
     "data": {
      "image/png": "[encoded data removed]",
      "text/plain": [
       "<Figure size 432x288 with 1 Axes>"
      ]
     },
     "metadata": {
      "needs_background": "light"
     },
     "output_type": "display_data"
    }
   ],
   "source": [
    "plt.plot(dist_df['num_pods'], dist_df[cols])\n",
    "plt.title('Distance by Number of PODs Opened - Total Distance Models')\n",
    "plt.legend(cols)\n",
    "plt.grid(b=True, which='major', color='#D3D3D3', linestyle='-')\n",
    "plt.ylim(0, 13)\n",
    "plt.show()"
   ]
  },
  {
   "cell_type": "code",
   "execution_count": 36,
   "metadata": {},
   "outputs": [],
   "source": [
    "cols = ['max_dist_minmax','avg_dist_minmax']"
   ]
  },
  {
   "cell_type": "code",
   "execution_count": 37,
   "metadata": {},
   "outputs": [
    {
     "data": {
      "image/png": "[encoded data removed]",
      "text/plain": [
       "<Figure size 432x288 with 1 Axes>"
      ]
     },
     "metadata": {
      "needs_background": "light"
     },
     "output_type": "display_data"
    }
   ],
   "source": [
    "plt.plot(dist_df['num_pods'], dist_df[cols])\n",
    "plt.title('Distance by Number of PODs Opened - Minimax Models')\n",
    "plt.legend(cols)\n",
    "plt.grid(b=True, which='major', color='#D3D3D3', linestyle='-')\n",
    "plt.ylim(0, 13)\n",
    "plt.show()"
   ]
  },
  {
   "cell_type": "markdown",
   "metadata": {},
   "source": [
    "Flood Scenario"
   ]
  },
  {
   "cell_type": "code",
   "execution_count": 80,
   "metadata": {},
   "outputs": [],
   "source": [
    "dist_flood_compare = {'num_pods':[],\n",
    "                'max_dist_total':[],\n",
    "                'max_dist_minmax':[],\n",
    "                'avg_dist_total':[],\n",
    "                'avg_dist_minmax':[]}\n",
    "\n",
    "for k in pods_flood_total.keys():\n",
    "    dist_flood_compare['num_pods'].append(k)\n",
    "    \n",
    "    # Minimize total distance\n",
    "    total_list = [N[j] * [dist[j,i]] for [j,i] in pods_flood_total[k]]\n",
    "    total_list_flat = [item for sublist in total_list for item in sublist]\n",
    "    avg_total = sum(total_list_flat)/len(total_list_flat)\n",
    "    max_total = max(total_list_flat)\n",
    "    \n",
    "    # Minimize maximum distance\n",
    "    minmax_list = [N[j] * [dist[j,i]] for [j,i] in pods_flood_minmax[k]]\n",
    "    minmax_list_flat = [item for sublist in minmax_list for item in sublist]\n",
    "    avg_minmax = sum(minmax_list_flat)/len(minmax_list_flat)\n",
    "    max_minmax = max(minmax_list_flat)\n",
    "    \n",
    "    dist_flood_compare['max_dist_total'].append(max_total)\n",
    "    dist_flood_compare['max_dist_minmax'].append(max_minmax)\n",
    "    dist_flood_compare['avg_dist_total'].append(avg_total)\n",
    "    dist_flood_compare['avg_dist_minmax'].append(avg_minmax)"
   ]
  },
  {
   "cell_type": "code",
   "execution_count": 81,
   "metadata": {},
   "outputs": [],
   "source": [
    "dist_flood_df = pd.DataFrame(dist_flood_compare)"
   ]
  },
  {
   "cell_type": "code",
   "execution_count": 82,
   "metadata": {},
   "outputs": [
    {
     "data": {
      "text/html": [
       "<div>\n",
       "<style scoped>\n",
       "    .dataframe tbody tr th:only-of-type {\n",
       "        vertical-align: middle;\n",
       "    }\n",
       "\n",
       "    .dataframe tbody tr th {\n",
       "        vertical-align: top;\n",
       "    }\n",
       "\n",
       "    .dataframe thead th {\n",
       "        text-align: right;\n",
       "    }\n",
       "</style>\n",
       "<table border=\"1\" class=\"dataframe\">\n",
       "  <thead>\n",
       "    <tr style=\"text-align: right;\">\n",
       "      <th></th>\n",
       "      <th>num_pods</th>\n",
       "      <th>max_dist_total</th>\n",
       "      <th>max_dist_minmax</th>\n",
       "      <th>avg_dist_total</th>\n",
       "      <th>avg_dist_minmax</th>\n",
       "    </tr>\n",
       "  </thead>\n",
       "  <tbody>\n",
       "    <tr>\n",
       "      <th>0</th>\n",
       "      <td>1</td>\n",
       "      <td>20.807948</td>\n",
       "      <td>21.983949</td>\n",
       "      <td>6.232089</td>\n",
       "      <td>13.252440</td>\n",
       "    </tr>\n",
       "    <tr>\n",
       "      <th>1</th>\n",
       "      <td>2</td>\n",
       "      <td>20.807948</td>\n",
       "      <td>19.277980</td>\n",
       "      <td>4.583169</td>\n",
       "      <td>14.177672</td>\n",
       "    </tr>\n",
       "    <tr>\n",
       "      <th>2</th>\n",
       "      <td>3</td>\n",
       "      <td>20.438668</td>\n",
       "      <td>14.550268</td>\n",
       "      <td>3.526891</td>\n",
       "      <td>6.140711</td>\n",
       "    </tr>\n",
       "    <tr>\n",
       "      <th>3</th>\n",
       "      <td>4</td>\n",
       "      <td>10.227140</td>\n",
       "      <td>14.474912</td>\n",
       "      <td>3.082898</td>\n",
       "      <td>9.944222</td>\n",
       "    </tr>\n",
       "    <tr>\n",
       "      <th>4</th>\n",
       "      <td>5</td>\n",
       "      <td>7.075253</td>\n",
       "      <td>11.145331</td>\n",
       "      <td>2.672649</td>\n",
       "      <td>6.753325</td>\n",
       "    </tr>\n",
       "  </tbody>\n",
       "</table>\n",
       "</div>"
      ],
      "text/plain": [
       "   num_pods  max_dist_total  max_dist_minmax  avg_dist_total  avg_dist_minmax\n",
       "0         1       20.807948        21.983949        6.232089        13.252440\n",
       "1         2       20.807948        19.277980        4.583169        14.177672\n",
       "2         3       20.438668        14.550268        3.526891         6.140711\n",
       "3         4       10.227140        14.474912        3.082898         9.944222\n",
       "4         5        7.075253        11.145331        2.672649         6.753325"
      ]
     },
     "execution_count": 82,
     "metadata": {},
     "output_type": "execute_result"
    }
   ],
   "source": [
    "dist_flood_df.head()"
   ]
  },
  {
   "cell_type": "code",
   "execution_count": 83,
   "metadata": {},
   "outputs": [],
   "source": [
    "cols = ['max_dist_total','max_dist_minmax','avg_dist_total','avg_dist_minmax']"
   ]
  },
  {
   "cell_type": "code",
   "execution_count": 88,
   "metadata": {},
   "outputs": [
    {
     "data": {
      "image/png": "[encoded data removed]",
      "text/plain": [
       "<Figure size 576x432 with 1 Axes>"
      ]
     },
     "metadata": {
      "needs_background": "light"
     },
     "output_type": "display_data"
    }
   ],
   "source": [
    "plt.figure(figsize=(8,6))\n",
    "plt.plot(dist_flood_df['num_pods'], dist_flood_df[cols])\n",
    "plt.suptitle('Distance by Number of PODs Opened', size=16)\n",
    "plt.title('Flood Scenario')\n",
    "plt.ylabel('Miles from Block Group to POD')\n",
    "plt.xlabel('Number of PODs Opened')\n",
    "plt.legend(cols)\n",
    "plt.show()"
   ]
  },
  {
   "cell_type": "code",
   "execution_count": null,
   "metadata": {},
   "outputs": [],
   "source": []
  },
  {
   "cell_type": "markdown",
   "metadata": {},
   "source": [
    "### Histograms"
   ]
  },
  {
   "cell_type": "markdown",
   "metadata": {},
   "source": [
    "Opening 20 PODs:"
   ]
  },
  {
   "cell_type": "code",
   "execution_count": 23,
   "metadata": {},
   "outputs": [],
   "source": [
    "dist_min_total = [N[j] * [dist[j,i]] for [j,i] in pods_total[20]]\n",
    "dist_min_total_flat = [item for sublist in dist_min_total for item in sublist]"
   ]
  },
  {
   "cell_type": "code",
   "execution_count": 30,
   "metadata": {},
   "outputs": [
    {
     "data": {
      "image/png": "[encoded data removed]",
      "text/plain": [
       "<Figure size 432x288 with 1 Axes>"
      ]
     },
     "metadata": {
      "needs_background": "light"
     },
     "output_type": "display_data"
    }
   ],
   "source": [
    "plt.hist(dist_min_total_flat, bins=20)\n",
    "plt.suptitle('Distribution When Minimizing Total Distance', size=16)\n",
    "plt.title('20 PODs Opened')\n",
    "plt.xlabel('Distance from block to POD')\n",
    "plt.ylabel('Frequency')\n",
    "plt.xlim(0, 9)\n",
    "plt.ylim(0, 160000)\n",
    "plt.show()"
   ]
  },
  {
   "cell_type": "code",
   "execution_count": 31,
   "metadata": {},
   "outputs": [],
   "source": [
    "dist_min_minmax = [N[j] * [dist[j,i]] for [j,i] in pods_minmax[20]]\n",
    "dist_min_minmax_flat = [item for sublist in dist_min_minmax for item in sublist]"
   ]
  },
  {
   "cell_type": "code",
   "execution_count": 32,
   "metadata": {},
   "outputs": [
    {
     "data": {
      "image/png": "[encoded data removed]",
      "text/plain": [
       "<Figure size 432x288 with 1 Axes>"
      ]
     },
     "metadata": {
      "needs_background": "light"
     },
     "output_type": "display_data"
    }
   ],
   "source": [
    "plt.hist(dist_min_minmax_flat, bins=20)\n",
    "plt.suptitle('Distribution When Minimizing Maximum Distance', size=16)\n",
    "plt.title('20 PODs Opened')\n",
    "plt.xlabel('Distance from block to POD')\n",
    "plt.ylabel('Frequency')\n",
    "plt.xlim(0, 9)\n",
    "plt.ylim(0, 160000)\n",
    "plt.show()"
   ]
  },
  {
   "cell_type": "markdown",
   "metadata": {},
   "source": [
    "### Top PODs"
   ]
  },
  {
   "cell_type": "markdown",
   "metadata": {},
   "source": [
    "Histogram of the number of times each POD is selected in the solutions"
   ]
  },
  {
   "cell_type": "markdown",
   "metadata": {},
   "source": [
    "Minimize total distance"
   ]
  },
  {
   "cell_type": "code",
   "execution_count": 47,
   "metadata": {},
   "outputs": [],
   "source": [
    "pods_count_total = dict.fromkeys(range(48), 0)"
   ]
  },
  {
   "cell_type": "code",
   "execution_count": 49,
   "metadata": {},
   "outputs": [],
   "source": [
    "for key, value in pods_total.items():\n",
    "    pod_add = set()\n",
    "    for bg, pod in value:\n",
    "        pod_add.add(pod)\n",
    "    for p in pod_add:\n",
    "        pods_count_total[p] += 1"
   ]
  },
  {
   "cell_type": "code",
   "execution_count": 64,
   "metadata": {},
   "outputs": [
    {
     "data": {
      "image/png": "[encoded data removed]",
      "text/plain": [
       "<Figure size 432x288 with 1 Axes>"
      ]
     },
     "metadata": {
      "needs_background": "light"
     },
     "output_type": "display_data"
    }
   ],
   "source": [
    "pod_list = []\n",
    "value_list = []\n",
    "for k, v in pods_count_total.items():\n",
    "    pod_list.append(k)\n",
    "    value_list.append(v)\n",
    "\n",
    "plt.bar(pod_list, value_list)\n",
    "plt.suptitle('Number of times each POD is selected', size=16)\n",
    "plt.title('Minimizing total distance')\n",
    "plt.show()"
   ]
  },
  {
   "cell_type": "markdown",
   "metadata": {},
   "source": [
    "Minimize maximum distance"
   ]
  },
  {
   "cell_type": "code",
   "execution_count": 52,
   "metadata": {},
   "outputs": [],
   "source": [
    "pods_count_minmax = dict.fromkeys(range(48), 0)"
   ]
  },
  {
   "cell_type": "code",
   "execution_count": 53,
   "metadata": {},
   "outputs": [],
   "source": [
    "for key, value in pods_minmax.items():\n",
    "    pod_add = set()\n",
    "    for bg, pod in value:\n",
    "        pod_add.add(pod)\n",
    "    for p in pod_add:\n",
    "        pods_count_minmax[p] += 1"
   ]
  },
  {
   "cell_type": "code",
   "execution_count": 65,
   "metadata": {},
   "outputs": [
    {
     "data": {
      "image/png": "[encoded data removed]",
      "text/plain": [
       "<Figure size 432x288 with 1 Axes>"
      ]
     },
     "metadata": {
      "needs_background": "light"
     },
     "output_type": "display_data"
    }
   ],
   "source": [
    "pod_list = []\n",
    "value_list = []\n",
    "for k, v in pods_count_minmax.items():\n",
    "    pod_list.append(k)\n",
    "    value_list.append(v)\n",
    "\n",
    "plt.bar(pod_list, value_list)\n",
    "plt.suptitle('Number of times each POD is selected', size=16)\n",
    "plt.title('Minimizing maximum distance')\n",
    "plt.show()"
   ]
  },
  {
   "cell_type": "markdown",
   "metadata": {},
   "source": [
    "### Population"
   ]
  },
  {
   "cell_type": "code",
   "execution_count": 86,
   "metadata": {},
   "outputs": [
    {
     "data": {
      "text/html": [
       "<div>\n",
       "<style scoped>\n",
       "    .dataframe tbody tr th:only-of-type {\n",
       "        vertical-align: middle;\n",
       "    }\n",
       "\n",
       "    .dataframe tbody tr th {\n",
       "        vertical-align: top;\n",
       "    }\n",
       "\n",
       "    .dataframe thead th {\n",
       "        text-align: right;\n",
       "    }\n",
       "</style>\n",
       "<table border=\"1\" class=\"dataframe\">\n",
       "  <thead>\n",
       "    <tr style=\"text-align: right;\">\n",
       "      <th></th>\n",
       "      <th>bg_id</th>\n",
       "      <th>census_geo_id</th>\n",
       "      <th>statefp</th>\n",
       "      <th>countyfp</th>\n",
       "      <th>tractce</th>\n",
       "      <th>blkgrpce</th>\n",
       "      <th>latitude</th>\n",
       "      <th>longitude</th>\n",
       "      <th>population</th>\n",
       "      <th>num_hhs</th>\n",
       "      <th>hh_no_car</th>\n",
       "      <th>hh_car</th>\n",
       "    </tr>\n",
       "  </thead>\n",
       "  <tbody>\n",
       "    <tr>\n",
       "      <th>0</th>\n",
       "      <td>1</td>\n",
       "      <td>1500000US420030103001</td>\n",
       "      <td>42</td>\n",
       "      <td>3</td>\n",
       "      <td>10300</td>\n",
       "      <td>1</td>\n",
       "      <td>40.434602</td>\n",
       "      <td>-79.993347</td>\n",
       "      <td>2510</td>\n",
       "      <td>0</td>\n",
       "      <td>0</td>\n",
       "      <td>0</td>\n",
       "    </tr>\n",
       "    <tr>\n",
       "      <th>1</th>\n",
       "      <td>2</td>\n",
       "      <td>1500000US420030103002</td>\n",
       "      <td>42</td>\n",
       "      <td>3</td>\n",
       "      <td>10300</td>\n",
       "      <td>2</td>\n",
       "      <td>40.436130</td>\n",
       "      <td>-79.990873</td>\n",
       "      <td>3412</td>\n",
       "      <td>0</td>\n",
       "      <td>0</td>\n",
       "      <td>0</td>\n",
       "    </tr>\n",
       "    <tr>\n",
       "      <th>2</th>\n",
       "      <td>3</td>\n",
       "      <td>1500000US420030103003</td>\n",
       "      <td>42</td>\n",
       "      <td>3</td>\n",
       "      <td>10300</td>\n",
       "      <td>3</td>\n",
       "      <td>40.437007</td>\n",
       "      <td>-79.982553</td>\n",
       "      <td>347</td>\n",
       "      <td>141</td>\n",
       "      <td>39</td>\n",
       "      <td>102</td>\n",
       "    </tr>\n",
       "    <tr>\n",
       "      <th>3</th>\n",
       "      <td>4</td>\n",
       "      <td>1500000US420030103004</td>\n",
       "      <td>42</td>\n",
       "      <td>3</td>\n",
       "      <td>10300</td>\n",
       "      <td>4</td>\n",
       "      <td>40.437364</td>\n",
       "      <td>-79.977217</td>\n",
       "      <td>399</td>\n",
       "      <td>179</td>\n",
       "      <td>58</td>\n",
       "      <td>121</td>\n",
       "    </tr>\n",
       "    <tr>\n",
       "      <th>4</th>\n",
       "      <td>5</td>\n",
       "      <td>1500000US420030201001</td>\n",
       "      <td>42</td>\n",
       "      <td>3</td>\n",
       "      <td>20100</td>\n",
       "      <td>1</td>\n",
       "      <td>40.438538</td>\n",
       "      <td>-80.001596</td>\n",
       "      <td>1717</td>\n",
       "      <td>347</td>\n",
       "      <td>47</td>\n",
       "      <td>300</td>\n",
       "    </tr>\n",
       "  </tbody>\n",
       "</table>\n",
       "</div>"
      ],
      "text/plain": [
       "   bg_id          census_geo_id  statefp  countyfp  tractce  blkgrpce  \\\n",
       "0      1  1500000US420030103001       42         3    10300         1   \n",
       "1      2  1500000US420030103002       42         3    10300         2   \n",
       "2      3  1500000US420030103003       42         3    10300         3   \n",
       "3      4  1500000US420030103004       42         3    10300         4   \n",
       "4      5  1500000US420030201001       42         3    20100         1   \n",
       "\n",
       "    latitude  longitude  population  num_hhs  hh_no_car  hh_car  \n",
       "0  40.434602 -79.993347        2510        0          0       0  \n",
       "1  40.436130 -79.990873        3412        0          0       0  \n",
       "2  40.437007 -79.982553         347      141         39     102  \n",
       "3  40.437364 -79.977217         399      179         58     121  \n",
       "4  40.438538 -80.001596        1717      347         47     300  "
      ]
     },
     "execution_count": 86,
     "metadata": {},
     "output_type": "execute_result"
    }
   ],
   "source": [
    "population.head()"
   ]
  },
  {
   "cell_type": "code",
   "execution_count": 147,
   "metadata": {},
   "outputs": [
    {
     "data": {
      "text/html": [
       "<div>\n",
       "<style scoped>\n",
       "    .dataframe tbody tr th:only-of-type {\n",
       "        vertical-align: middle;\n",
       "    }\n",
       "\n",
       "    .dataframe tbody tr th {\n",
       "        vertical-align: top;\n",
       "    }\n",
       "\n",
       "    .dataframe thead th {\n",
       "        text-align: right;\n",
       "    }\n",
       "</style>\n",
       "<table border=\"1\" class=\"dataframe\">\n",
       "  <thead>\n",
       "    <tr style=\"text-align: right;\">\n",
       "      <th></th>\n",
       "      <th>bg_id</th>\n",
       "      <th>census_geo_id</th>\n",
       "      <th>statefp</th>\n",
       "      <th>countyfp</th>\n",
       "      <th>tractce</th>\n",
       "      <th>blkgrpce</th>\n",
       "      <th>latitude</th>\n",
       "      <th>longitude</th>\n",
       "      <th>population</th>\n",
       "      <th>num_hhs</th>\n",
       "      <th>hh_no_car</th>\n",
       "      <th>hh_car</th>\n",
       "      <th>bg</th>\n",
       "      <th>pod</th>\n",
       "    </tr>\n",
       "  </thead>\n",
       "  <tbody>\n",
       "    <tr>\n",
       "      <th>0</th>\n",
       "      <td>1</td>\n",
       "      <td>1500000US420030103001</td>\n",
       "      <td>42</td>\n",
       "      <td>3</td>\n",
       "      <td>10300</td>\n",
       "      <td>1</td>\n",
       "      <td>40.434602</td>\n",
       "      <td>-79.993347</td>\n",
       "      <td>2510</td>\n",
       "      <td>0</td>\n",
       "      <td>0</td>\n",
       "      <td>0</td>\n",
       "      <td>1.0</td>\n",
       "      <td>3.0</td>\n",
       "    </tr>\n",
       "    <tr>\n",
       "      <th>1</th>\n",
       "      <td>2</td>\n",
       "      <td>1500000US420030103002</td>\n",
       "      <td>42</td>\n",
       "      <td>3</td>\n",
       "      <td>10300</td>\n",
       "      <td>2</td>\n",
       "      <td>40.436130</td>\n",
       "      <td>-79.990873</td>\n",
       "      <td>3412</td>\n",
       "      <td>0</td>\n",
       "      <td>0</td>\n",
       "      <td>0</td>\n",
       "      <td>2.0</td>\n",
       "      <td>3.0</td>\n",
       "    </tr>\n",
       "    <tr>\n",
       "      <th>2</th>\n",
       "      <td>3</td>\n",
       "      <td>1500000US420030103003</td>\n",
       "      <td>42</td>\n",
       "      <td>3</td>\n",
       "      <td>10300</td>\n",
       "      <td>3</td>\n",
       "      <td>40.437007</td>\n",
       "      <td>-79.982553</td>\n",
       "      <td>347</td>\n",
       "      <td>141</td>\n",
       "      <td>39</td>\n",
       "      <td>102</td>\n",
       "      <td>3.0</td>\n",
       "      <td>3.0</td>\n",
       "    </tr>\n",
       "    <tr>\n",
       "      <th>3</th>\n",
       "      <td>4</td>\n",
       "      <td>1500000US420030103004</td>\n",
       "      <td>42</td>\n",
       "      <td>3</td>\n",
       "      <td>10300</td>\n",
       "      <td>4</td>\n",
       "      <td>40.437364</td>\n",
       "      <td>-79.977217</td>\n",
       "      <td>399</td>\n",
       "      <td>179</td>\n",
       "      <td>58</td>\n",
       "      <td>121</td>\n",
       "      <td>4.0</td>\n",
       "      <td>3.0</td>\n",
       "    </tr>\n",
       "    <tr>\n",
       "      <th>4</th>\n",
       "      <td>5</td>\n",
       "      <td>1500000US420030201001</td>\n",
       "      <td>42</td>\n",
       "      <td>3</td>\n",
       "      <td>20100</td>\n",
       "      <td>1</td>\n",
       "      <td>40.438538</td>\n",
       "      <td>-80.001596</td>\n",
       "      <td>1717</td>\n",
       "      <td>347</td>\n",
       "      <td>47</td>\n",
       "      <td>300</td>\n",
       "      <td>5.0</td>\n",
       "      <td>3.0</td>\n",
       "    </tr>\n",
       "  </tbody>\n",
       "</table>\n",
       "</div>"
      ],
      "text/plain": [
       "   bg_id          census_geo_id  statefp  countyfp  tractce  blkgrpce  \\\n",
       "0      1  1500000US420030103001       42         3    10300         1   \n",
       "1      2  1500000US420030103002       42         3    10300         2   \n",
       "2      3  1500000US420030103003       42         3    10300         3   \n",
       "3      4  1500000US420030103004       42         3    10300         4   \n",
       "4      5  1500000US420030201001       42         3    20100         1   \n",
       "\n",
       "    latitude  longitude  population  num_hhs  hh_no_car  hh_car   bg  pod  \n",
       "0  40.434602 -79.993347        2510        0          0       0  1.0  3.0  \n",
       "1  40.436130 -79.990873        3412        0          0       0  2.0  3.0  \n",
       "2  40.437007 -79.982553         347      141         39     102  3.0  3.0  \n",
       "3  40.437364 -79.977217         399      179         58     121  4.0  3.0  \n",
       "4  40.438538 -80.001596        1717      347         47     300  5.0  3.0  "
      ]
     },
     "execution_count": 147,
     "metadata": {},
     "output_type": "execute_result"
    }
   ],
   "source": [
    "# set number of pods to open (10-47)\n",
    "num_pods_open = 20\n",
    "\n",
    "\n",
    "# get id of pods in solution\n",
    "pods = []\n",
    "for i in pods_total[num_pods_open]:\n",
    "    pods.append(i[1])\n",
    "\n",
    "pod_ids = set(pods) # could use to match up to  list of names, locations of selected pods\n",
    "\n",
    "\n",
    "pods = pd.DataFrame(pods_total[num_pods_open])\n",
    "pods.columns = [\"bg\",\"pod\"]\n",
    "\n",
    "#Merge population and pod data frames\n",
    "pods = pd.merge(population,\n",
    "                pods,\n",
    "                left_on = 'bg_id',\n",
    "                right_on = 'bg',\n",
    "                how = 'left')\n",
    "\n",
    "pods.head()"
   ]
  },
  {
   "cell_type": "code",
   "execution_count": 146,
   "metadata": {},
   "outputs": [
    {
     "data": {
      "image/png": "[encoded data removed]",
      "text/plain": [
       "<Figure size 432x288 with 1 Axes>"
      ]
     },
     "metadata": {
      "needs_background": "light"
     },
     "output_type": "display_data"
    }
   ],
   "source": [
    "pods = pods.groupby(\"pod\").population.sum().reset_index()\n",
    "\n",
    "plt.bar(pods['pod'], pods['population'],align='center', alpha=0.5)\n",
    "plt.ylabel('Population')\n",
    "plt.xlabel('POD ID')\n",
    "plt.title('Total population served by each POD')\n",
    "\n",
    "plt.show()"
   ]
  },
  {
   "cell_type": "markdown",
   "metadata": {},
   "source": [
    "### POD capacity"
   ]
  },
  {
   "cell_type": "code",
   "execution_count": null,
   "metadata": {},
   "outputs": [],
   "source": [
    "# capacity_pod_all = [[N[j], i] for [j,i] in block_pod_list]"
   ]
  },
  {
   "cell_type": "code",
   "execution_count": null,
   "metadata": {},
   "outputs": [],
   "source": [
    "# capacity_pod = {}\n",
    "# for [N, i] in capacity_pod_all:\n",
    "#     if i not in capacity_pod:\n",
    "#         capacity_pod[i] = N\n",
    "#     else:\n",
    "#         capacity_pod[i] += N"
   ]
  },
  {
   "cell_type": "code",
   "execution_count": null,
   "metadata": {},
   "outputs": [],
   "source": [
    "# max(capacity_pod.values())"
   ]
  },
  {
   "cell_type": "code",
   "execution_count": null,
   "metadata": {},
   "outputs": [],
   "source": [
    "# min(capacity_pod.values())"
   ]
  },
  {
   "cell_type": "code",
   "execution_count": null,
   "metadata": {},
   "outputs": [],
   "source": []
  }
 ],
 "metadata": {
  "kernelspec": {
   "display_name": "Python 3",
   "language": "python",
   "name": "python3"
  },
  "language_info": {
   "codemirror_mode": {
    "name": "ipython",
    "version": 3
   },
   "file_extension": ".py",
   "mimetype": "text/x-python",
   "name": "python",
   "nbconvert_exporter": "python",
   "pygments_lexer": "ipython3",
   "version": "3.7.6"
  }
 },
 "nbformat": 4,
 "nbformat_minor": 4
}
