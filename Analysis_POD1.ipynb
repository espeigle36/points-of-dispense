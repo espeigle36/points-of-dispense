{
 "cells": [
  {
   "cell_type": "markdown",
   "metadata": {},
   "source": [
    "## Points of Dispense Analysis\n",
    "\n",
    "##### Maxwell Kennady, Nora Murray, Elizabeth Speigle"
   ]
  },
  {
   "cell_type": "code",
   "execution_count": 1,
   "metadata": {},
   "outputs": [],
   "source": [
    "import pandas as pd\n",
    "import numpy as np\n",
    "import matplotlib.pyplot as plt\n",
    "import pickle\n",
    "%matplotlib inline"
   ]
  },
  {
   "cell_type": "code",
   "execution_count": 2,
   "metadata": {},
   "outputs": [],
   "source": [
    "distances = pd.read_csv('data/OD_Pairs_Distances.csv')\n",
    "population = pd.read_excel('data/BG_master.xlsx')\n",
    "bg_included = pd.read_csv('data/bg_pop_included.csv')"
   ]
  },
  {
   "cell_type": "code",
   "execution_count": 34,
   "metadata": {},
   "outputs": [],
   "source": [
    "dist_miles = distances.pivot(index='block_group', columns='pod_id', values='Miles')"
   ]
  },
  {
   "cell_type": "code",
   "execution_count": 36,
   "metadata": {},
   "outputs": [],
   "source": [
    "dist = dist_miles.values\n",
    "N = population['population'].values\n",
    "prop = bg_included['all_included'].values"
   ]
  },
  {
   "cell_type": "code",
   "execution_count": 5,
   "metadata": {},
   "outputs": [],
   "source": [
    "infile = open('pods_open_total','rb')\n",
    "pods_total = pickle.load(infile)\n",
    "infile.close()"
   ]
  },
  {
   "cell_type": "code",
   "execution_count": 6,
   "metadata": {},
   "outputs": [],
   "source": [
    "infile = open('pods_open_minmax','rb')\n",
    "pods_minmax = pickle.load(infile)\n",
    "infile.close()"
   ]
  },
  {
   "cell_type": "markdown",
   "metadata": {},
   "source": [
    "### Comparing average and maximum distance by PODs opened"
   ]
  },
  {
   "cell_type": "code",
   "execution_count": null,
   "metadata": {},
   "outputs": [],
   "source": [
    "dist_compare = {'num_pods':[],\n",
    "                'max_dist_total':[],\n",
    "                'max_dist_minmax':[],\n",
    "                'avg_dist_total':[],\n",
    "                'avg_dist_minmax':[]}\n",
    "\n",
    "for k in pods_total.keys():\n",
    "    dist_compare['num_pods'].append(k)\n",
    "    \n",
    "    # Minimize total distance\n",
    "    total_list = [N[j] * [dist[j,i]] for [j,i] in pods_total[k]]\n",
    "    total_list_flat = [item for sublist in total_list for item in sublist]\n",
    "    avg_total = sum(total_list_flat)/len(total_list_flat)\n",
    "    max_total = max(total_list_flat)\n",
    "    \n",
    "    # Minimize maximum distance\n",
    "    minmax_list = [N[j] * [dist[j,i]] for [j,i] in pods_minmax[k]]\n",
    "    minmax_list_flat = [item for sublist in minmax_list for item in sublist]\n",
    "    avg_minmax = sum(minmax_list_flat)/len(minmax_list_flat)\n",
    "    max_minmax = max(minmax_list_flat)\n",
    "    \n",
    "    dist_compare['max_dist_total'].append(max_total)\n",
    "    dist_compare['max_dist_minmax'].append(max_minmax)\n",
    "    dist_compare['avg_dist_total'].append(avg_total)\n",
    "    dist_compare['avg_dist_minmax'].append(avg_minmax)"
   ]
  },
  {
   "cell_type": "code",
   "execution_count": null,
   "metadata": {},
   "outputs": [],
   "source": [
    "dist_df = pd.DataFrame(dist_compare)"
   ]
  },
  {
   "cell_type": "code",
   "execution_count": null,
   "metadata": {},
   "outputs": [],
   "source": [
    "dist_df.head()"
   ]
  },
  {
   "cell_type": "code",
   "execution_count": null,
   "metadata": {},
   "outputs": [],
   "source": [
    "cols = ['max_dist_total','max_dist_minmax','avg_dist_total','avg_dist_minmax']"
   ]
  },
  {
   "cell_type": "code",
   "execution_count": null,
   "metadata": {},
   "outputs": [],
   "source": [
    "plt.plot(dist_df['num_pods'], dist_df[cols])\n",
    "plt.title('Distance by Number of PODs Opened')\n",
    "# add axis labels\n",
    "plt.legend(cols)\n",
    "plt.ylim(0, 13)\n",
    "plt.show()"
   ]
  },
  {
   "cell_type": "code",
   "execution_count": null,
   "metadata": {},
   "outputs": [],
   "source": [
    "cols = ['max_dist_total','avg_dist_total']"
   ]
  },
  {
   "cell_type": "code",
   "execution_count": null,
   "metadata": {},
   "outputs": [],
   "source": [
    "plt.plot(dist_df['num_pods'], dist_df[cols])\n",
    "plt.title('Distance by Number of PODs Opened - Total Distance Models')\n",
    "plt.legend(cols)\n",
    "plt.grid(b=True, which='major', color='#D3D3D3', linestyle='-')\n",
    "plt.ylim(0, 13)\n",
    "plt.show()"
   ]
  },
  {
   "cell_type": "code",
   "execution_count": null,
   "metadata": {},
   "outputs": [],
   "source": [
    "cols = ['max_dist_minmax','avg_dist_minmax']"
   ]
  },
  {
   "cell_type": "code",
   "execution_count": null,
   "metadata": {},
   "outputs": [],
   "source": [
    "plt.plot(dist_df['num_pods'], dist_df[cols])\n",
    "plt.title('Distance by Number of PODs Opened - Minimax Models')\n",
    "plt.legend(cols)\n",
    "plt.grid(b=True, which='major', color='#D3D3D3', linestyle='-')\n",
    "plt.ylim(0, 13)\n",
    "plt.show()"
   ]
  },
  {
   "cell_type": "markdown",
   "metadata": {},
   "source": [
    "### Histograms"
   ]
  },
  {
   "cell_type": "code",
   "execution_count": null,
   "metadata": {},
   "outputs": [],
   "source": [
    "# would be interesting to do a histogram of the number of times each POD is selected in the solutions"
   ]
  },
  {
   "cell_type": "markdown",
   "metadata": {},
   "source": [
    "### Population"
   ]
  },
  {
   "cell_type": "code",
   "execution_count": 8,
   "metadata": {},
   "outputs": [
    {
     "data": {
      "text/html": [
       "<div>\n",
       "<style scoped>\n",
       "    .dataframe tbody tr th:only-of-type {\n",
       "        vertical-align: middle;\n",
       "    }\n",
       "\n",
       "    .dataframe tbody tr th {\n",
       "        vertical-align: top;\n",
       "    }\n",
       "\n",
       "    .dataframe thead th {\n",
       "        text-align: right;\n",
       "    }\n",
       "</style>\n",
       "<table border=\"1\" class=\"dataframe\">\n",
       "  <thead>\n",
       "    <tr style=\"text-align: right;\">\n",
       "      <th></th>\n",
       "      <th>bg_id</th>\n",
       "      <th>census_geo_id</th>\n",
       "      <th>statefp</th>\n",
       "      <th>countyfp</th>\n",
       "      <th>tractce</th>\n",
       "      <th>blkgrpce</th>\n",
       "      <th>latitude</th>\n",
       "      <th>longitude</th>\n",
       "      <th>population</th>\n",
       "      <th>num_hhs</th>\n",
       "      <th>hh_no_car</th>\n",
       "      <th>hh_car</th>\n",
       "    </tr>\n",
       "  </thead>\n",
       "  <tbody>\n",
       "    <tr>\n",
       "      <th>0</th>\n",
       "      <td>1</td>\n",
       "      <td>1500000US420030103001</td>\n",
       "      <td>42</td>\n",
       "      <td>3</td>\n",
       "      <td>10300</td>\n",
       "      <td>1</td>\n",
       "      <td>40.434602</td>\n",
       "      <td>-79.993347</td>\n",
       "      <td>2510</td>\n",
       "      <td>0</td>\n",
       "      <td>0</td>\n",
       "      <td>0</td>\n",
       "    </tr>\n",
       "    <tr>\n",
       "      <th>1</th>\n",
       "      <td>2</td>\n",
       "      <td>1500000US420030103002</td>\n",
       "      <td>42</td>\n",
       "      <td>3</td>\n",
       "      <td>10300</td>\n",
       "      <td>2</td>\n",
       "      <td>40.436130</td>\n",
       "      <td>-79.990873</td>\n",
       "      <td>3412</td>\n",
       "      <td>0</td>\n",
       "      <td>0</td>\n",
       "      <td>0</td>\n",
       "    </tr>\n",
       "    <tr>\n",
       "      <th>2</th>\n",
       "      <td>3</td>\n",
       "      <td>1500000US420030103003</td>\n",
       "      <td>42</td>\n",
       "      <td>3</td>\n",
       "      <td>10300</td>\n",
       "      <td>3</td>\n",
       "      <td>40.437007</td>\n",
       "      <td>-79.982553</td>\n",
       "      <td>347</td>\n",
       "      <td>141</td>\n",
       "      <td>39</td>\n",
       "      <td>102</td>\n",
       "    </tr>\n",
       "    <tr>\n",
       "      <th>3</th>\n",
       "      <td>4</td>\n",
       "      <td>1500000US420030103004</td>\n",
       "      <td>42</td>\n",
       "      <td>3</td>\n",
       "      <td>10300</td>\n",
       "      <td>4</td>\n",
       "      <td>40.437364</td>\n",
       "      <td>-79.977217</td>\n",
       "      <td>399</td>\n",
       "      <td>179</td>\n",
       "      <td>58</td>\n",
       "      <td>121</td>\n",
       "    </tr>\n",
       "    <tr>\n",
       "      <th>4</th>\n",
       "      <td>5</td>\n",
       "      <td>1500000US420030201001</td>\n",
       "      <td>42</td>\n",
       "      <td>3</td>\n",
       "      <td>20100</td>\n",
       "      <td>1</td>\n",
       "      <td>40.438538</td>\n",
       "      <td>-80.001596</td>\n",
       "      <td>1717</td>\n",
       "      <td>347</td>\n",
       "      <td>47</td>\n",
       "      <td>300</td>\n",
       "    </tr>\n",
       "  </tbody>\n",
       "</table>\n",
       "</div>"
      ],
      "text/plain": [
       "   bg_id          census_geo_id  statefp  countyfp  tractce  blkgrpce  \\\n",
       "0      1  1500000US420030103001       42         3    10300         1   \n",
       "1      2  1500000US420030103002       42         3    10300         2   \n",
       "2      3  1500000US420030103003       42         3    10300         3   \n",
       "3      4  1500000US420030103004       42         3    10300         4   \n",
       "4      5  1500000US420030201001       42         3    20100         1   \n",
       "\n",
       "    latitude  longitude  population  num_hhs  hh_no_car  hh_car  \n",
       "0  40.434602 -79.993347        2510        0          0       0  \n",
       "1  40.436130 -79.990873        3412        0          0       0  \n",
       "2  40.437007 -79.982553         347      141         39     102  \n",
       "3  40.437364 -79.977217         399      179         58     121  \n",
       "4  40.438538 -80.001596        1717      347         47     300  "
      ]
     },
     "execution_count": 8,
     "metadata": {},
     "output_type": "execute_result"
    }
   ],
   "source": [
    "population.head()"
   ]
  },
  {
   "cell_type": "code",
   "execution_count": 9,
   "metadata": {
    "scrolled": true
   },
   "outputs": [
    {
     "data": {
      "text/html": [
       "<div>\n",
       "<style scoped>\n",
       "    .dataframe tbody tr th:only-of-type {\n",
       "        vertical-align: middle;\n",
       "    }\n",
       "\n",
       "    .dataframe tbody tr th {\n",
       "        vertical-align: top;\n",
       "    }\n",
       "\n",
       "    .dataframe thead th {\n",
       "        text-align: right;\n",
       "    }\n",
       "</style>\n",
       "<table border=\"1\" class=\"dataframe\">\n",
       "  <thead>\n",
       "    <tr style=\"text-align: right;\">\n",
       "      <th></th>\n",
       "      <th>bg_id</th>\n",
       "      <th>census_geo_id</th>\n",
       "      <th>statefp</th>\n",
       "      <th>countyfp</th>\n",
       "      <th>tractce</th>\n",
       "      <th>blkgrpce</th>\n",
       "      <th>latitude</th>\n",
       "      <th>longitude</th>\n",
       "      <th>population</th>\n",
       "      <th>num_hhs</th>\n",
       "      <th>hh_no_car</th>\n",
       "      <th>hh_car</th>\n",
       "      <th>bg</th>\n",
       "      <th>pod</th>\n",
       "    </tr>\n",
       "  </thead>\n",
       "  <tbody>\n",
       "    <tr>\n",
       "      <th>0</th>\n",
       "      <td>1</td>\n",
       "      <td>1500000US420030103001</td>\n",
       "      <td>42</td>\n",
       "      <td>3</td>\n",
       "      <td>10300</td>\n",
       "      <td>1</td>\n",
       "      <td>40.434602</td>\n",
       "      <td>-79.993347</td>\n",
       "      <td>2510</td>\n",
       "      <td>0</td>\n",
       "      <td>0</td>\n",
       "      <td>0</td>\n",
       "      <td>1.0</td>\n",
       "      <td>3.0</td>\n",
       "    </tr>\n",
       "    <tr>\n",
       "      <th>1</th>\n",
       "      <td>2</td>\n",
       "      <td>1500000US420030103002</td>\n",
       "      <td>42</td>\n",
       "      <td>3</td>\n",
       "      <td>10300</td>\n",
       "      <td>2</td>\n",
       "      <td>40.436130</td>\n",
       "      <td>-79.990873</td>\n",
       "      <td>3412</td>\n",
       "      <td>0</td>\n",
       "      <td>0</td>\n",
       "      <td>0</td>\n",
       "      <td>2.0</td>\n",
       "      <td>3.0</td>\n",
       "    </tr>\n",
       "    <tr>\n",
       "      <th>2</th>\n",
       "      <td>3</td>\n",
       "      <td>1500000US420030103003</td>\n",
       "      <td>42</td>\n",
       "      <td>3</td>\n",
       "      <td>10300</td>\n",
       "      <td>3</td>\n",
       "      <td>40.437007</td>\n",
       "      <td>-79.982553</td>\n",
       "      <td>347</td>\n",
       "      <td>141</td>\n",
       "      <td>39</td>\n",
       "      <td>102</td>\n",
       "      <td>3.0</td>\n",
       "      <td>3.0</td>\n",
       "    </tr>\n",
       "    <tr>\n",
       "      <th>3</th>\n",
       "      <td>4</td>\n",
       "      <td>1500000US420030103004</td>\n",
       "      <td>42</td>\n",
       "      <td>3</td>\n",
       "      <td>10300</td>\n",
       "      <td>4</td>\n",
       "      <td>40.437364</td>\n",
       "      <td>-79.977217</td>\n",
       "      <td>399</td>\n",
       "      <td>179</td>\n",
       "      <td>58</td>\n",
       "      <td>121</td>\n",
       "      <td>4.0</td>\n",
       "      <td>3.0</td>\n",
       "    </tr>\n",
       "    <tr>\n",
       "      <th>4</th>\n",
       "      <td>5</td>\n",
       "      <td>1500000US420030201001</td>\n",
       "      <td>42</td>\n",
       "      <td>3</td>\n",
       "      <td>20100</td>\n",
       "      <td>1</td>\n",
       "      <td>40.438538</td>\n",
       "      <td>-80.001596</td>\n",
       "      <td>1717</td>\n",
       "      <td>347</td>\n",
       "      <td>47</td>\n",
       "      <td>300</td>\n",
       "      <td>5.0</td>\n",
       "      <td>3.0</td>\n",
       "    </tr>\n",
       "  </tbody>\n",
       "</table>\n",
       "</div>"
      ],
      "text/plain": [
       "   bg_id          census_geo_id  statefp  countyfp  tractce  blkgrpce  \\\n",
       "0      1  1500000US420030103001       42         3    10300         1   \n",
       "1      2  1500000US420030103002       42         3    10300         2   \n",
       "2      3  1500000US420030103003       42         3    10300         3   \n",
       "3      4  1500000US420030103004       42         3    10300         4   \n",
       "4      5  1500000US420030201001       42         3    20100         1   \n",
       "\n",
       "    latitude  longitude  population  num_hhs  hh_no_car  hh_car   bg  pod  \n",
       "0  40.434602 -79.993347        2510        0          0       0  1.0  3.0  \n",
       "1  40.436130 -79.990873        3412        0          0       0  2.0  3.0  \n",
       "2  40.437007 -79.982553         347      141         39     102  3.0  3.0  \n",
       "3  40.437364 -79.977217         399      179         58     121  4.0  3.0  \n",
       "4  40.438538 -80.001596        1717      347         47     300  5.0  3.0  "
      ]
     },
     "execution_count": 9,
     "metadata": {},
     "output_type": "execute_result"
    }
   ],
   "source": [
    "# set number of pods to open (10-47)\n",
    "num_pods_open = 20\n",
    "\n",
    "\n",
    "# get id of pods in solution\n",
    "pods_open = []\n",
    "for i in pods_total[num_pods_open]:\n",
    "    pods_open.append(i[1])\n",
    "\n",
    "pod_ids = set(pods_open) # could use to match up to list of names, locations of selected pods\n",
    "\n",
    "\n",
    "#Merge population and pod data frames\n",
    "pods_open = pd.DataFrame(pods_total[num_pods_open])\n",
    "pods_open.columns = [\"bg\",\"pod\"]\n",
    "\n",
    "pods_open = pd.merge(population,\n",
    "                     pods_open,\n",
    "                     left_on = 'bg_id',\n",
    "                     right_on = 'bg',\n",
    "                     how = 'left')\n",
    "\n",
    "pods_open.head()"
   ]
  },
  {
   "cell_type": "code",
   "execution_count": 10,
   "metadata": {},
   "outputs": [
    {
     "data": {
      "image/png": "[encoded data removed]",
      "text/plain": [
       "<Figure size 432x288 with 1 Axes>"
      ]
     },
     "metadata": {
      "needs_background": "light"
     },
     "output_type": "display_data"
    },
    {
     "name": "stdout",
     "output_type": "stream",
     "text": [
      "The average number of people served by a POD is 61,047 .\n"
     ]
    }
   ],
   "source": [
    "pods_open = pods_open.groupby(\"pod\").population.sum().reset_index()\n",
    "\n",
    "plt.bar(pods_open['pod'], pods_open['population'],align='center', alpha=0.7)\n",
    "plt.ylabel('Population')\n",
    "plt.xlabel('POD ID')\n",
    "plt.title('Total population served by each POD')\n",
    "plt.show()\n",
    "\n",
    "print(\"The average number of people served by a POD is\",  \"{:,.0f}\".format(np.average(pods_by_pop['population'])))"
   ]
  },
  {
   "cell_type": "markdown",
   "metadata": {},
   "source": [
    "### Number of cars and distance between block group and PODs"
   ]
  },
  {
   "cell_type": "code",
   "execution_count": 14,
   "metadata": {},
   "outputs": [],
   "source": [
    "# analysis on number of hhs with no car and distance between block group and POD\n",
    "# avg distance between POD and its selected BGs"
   ]
  },
  {
   "cell_type": "code",
   "execution_count": 15,
   "metadata": {},
   "outputs": [
    {
     "data": {
      "text/html": [
       "<div>\n",
       "<style scoped>\n",
       "    .dataframe tbody tr th:only-of-type {\n",
       "        vertical-align: middle;\n",
       "    }\n",
       "\n",
       "    .dataframe tbody tr th {\n",
       "        vertical-align: top;\n",
       "    }\n",
       "\n",
       "    .dataframe thead th {\n",
       "        text-align: right;\n",
       "    }\n",
       "</style>\n",
       "<table border=\"1\" class=\"dataframe\">\n",
       "  <thead>\n",
       "    <tr style=\"text-align: right;\">\n",
       "      <th></th>\n",
       "      <th>bg</th>\n",
       "      <th>pod</th>\n",
       "    </tr>\n",
       "  </thead>\n",
       "  <tbody>\n",
       "    <tr>\n",
       "      <th>0</th>\n",
       "      <td>0</td>\n",
       "      <td>3</td>\n",
       "    </tr>\n",
       "    <tr>\n",
       "      <th>1</th>\n",
       "      <td>1</td>\n",
       "      <td>3</td>\n",
       "    </tr>\n",
       "    <tr>\n",
       "      <th>2</th>\n",
       "      <td>2</td>\n",
       "      <td>3</td>\n",
       "    </tr>\n",
       "    <tr>\n",
       "      <th>3</th>\n",
       "      <td>3</td>\n",
       "      <td>3</td>\n",
       "    </tr>\n",
       "    <tr>\n",
       "      <th>4</th>\n",
       "      <td>4</td>\n",
       "      <td>3</td>\n",
       "    </tr>\n",
       "  </tbody>\n",
       "</table>\n",
       "</div>"
      ],
      "text/plain": [
       "   bg  pod\n",
       "0   0    3\n",
       "1   1    3\n",
       "2   2    3\n",
       "3   3    3\n",
       "4   4    3"
      ]
     },
     "execution_count": 15,
     "metadata": {},
     "output_type": "execute_result"
    }
   ],
   "source": [
    "pods_open = pd.DataFrame(pods_total[num_pods_open])\n",
    "pods_open.columns = [\"bg\",\"pod\"]\n",
    "pods_open.head()"
   ]
  },
  {
   "cell_type": "code",
   "execution_count": 64,
   "metadata": {},
   "outputs": [],
   "source": [
    "bg_pod_dist = []\n",
    "    \n",
    "for i in np.arange(0,len(pods_open)):    \n",
    "    bg_pod_dist.append(dist_miles.iloc[pods_open.iloc[i,0],(pods_open.iloc[i,1]-1)])\n",
    "\n",
    "bg_pod_dist = pd.merge(pods_open, \n",
    "                pd.DataFrame(bg_pod_dist), \n",
    "                left_index=True, \n",
    "                right_index=True)\n",
    "\n",
    "bg_pod_dist.columns = [\"bg\",\"pod\",\"distance\"]"
   ]
  },
  {
   "cell_type": "code",
   "execution_count": 65,
   "metadata": {},
   "outputs": [
    {
     "data": {
      "text/html": [
       "<div>\n",
       "<style scoped>\n",
       "    .dataframe tbody tr th:only-of-type {\n",
       "        vertical-align: middle;\n",
       "    }\n",
       "\n",
       "    .dataframe tbody tr th {\n",
       "        vertical-align: top;\n",
       "    }\n",
       "\n",
       "    .dataframe thead th {\n",
       "        text-align: right;\n",
       "    }\n",
       "</style>\n",
       "<table border=\"1\" class=\"dataframe\">\n",
       "  <thead>\n",
       "    <tr style=\"text-align: right;\">\n",
       "      <th></th>\n",
       "      <th>bg_id</th>\n",
       "      <th>census_geo_id</th>\n",
       "      <th>statefp</th>\n",
       "      <th>countyfp</th>\n",
       "      <th>tractce</th>\n",
       "      <th>blkgrpce</th>\n",
       "      <th>latitude</th>\n",
       "      <th>longitude</th>\n",
       "      <th>population</th>\n",
       "      <th>num_hhs</th>\n",
       "      <th>hh_no_car</th>\n",
       "      <th>hh_car</th>\n",
       "      <th>bg</th>\n",
       "      <th>pod</th>\n",
       "      <th>distance</th>\n",
       "      <th>prop_hh_no_car</th>\n",
       "    </tr>\n",
       "  </thead>\n",
       "  <tbody>\n",
       "    <tr>\n",
       "      <th>0</th>\n",
       "      <td>1</td>\n",
       "      <td>1500000US420030103001</td>\n",
       "      <td>42</td>\n",
       "      <td>3</td>\n",
       "      <td>10300</td>\n",
       "      <td>1</td>\n",
       "      <td>40.434602</td>\n",
       "      <td>-79.993347</td>\n",
       "      <td>2510</td>\n",
       "      <td>0</td>\n",
       "      <td>0</td>\n",
       "      <td>0</td>\n",
       "      <td>1.0</td>\n",
       "      <td>3.0</td>\n",
       "      <td>9.571166</td>\n",
       "      <td>NaN</td>\n",
       "    </tr>\n",
       "    <tr>\n",
       "      <th>1</th>\n",
       "      <td>2</td>\n",
       "      <td>1500000US420030103002</td>\n",
       "      <td>42</td>\n",
       "      <td>3</td>\n",
       "      <td>10300</td>\n",
       "      <td>2</td>\n",
       "      <td>40.436130</td>\n",
       "      <td>-79.990873</td>\n",
       "      <td>3412</td>\n",
       "      <td>0</td>\n",
       "      <td>0</td>\n",
       "      <td>0</td>\n",
       "      <td>2.0</td>\n",
       "      <td>3.0</td>\n",
       "      <td>10.018893</td>\n",
       "      <td>NaN</td>\n",
       "    </tr>\n",
       "    <tr>\n",
       "      <th>2</th>\n",
       "      <td>3</td>\n",
       "      <td>1500000US420030103003</td>\n",
       "      <td>42</td>\n",
       "      <td>3</td>\n",
       "      <td>10300</td>\n",
       "      <td>3</td>\n",
       "      <td>40.437007</td>\n",
       "      <td>-79.982553</td>\n",
       "      <td>347</td>\n",
       "      <td>141</td>\n",
       "      <td>39</td>\n",
       "      <td>102</td>\n",
       "      <td>3.0</td>\n",
       "      <td>3.0</td>\n",
       "      <td>10.399206</td>\n",
       "      <td>0.276596</td>\n",
       "    </tr>\n",
       "    <tr>\n",
       "      <th>3</th>\n",
       "      <td>4</td>\n",
       "      <td>1500000US420030103004</td>\n",
       "      <td>42</td>\n",
       "      <td>3</td>\n",
       "      <td>10300</td>\n",
       "      <td>4</td>\n",
       "      <td>40.437364</td>\n",
       "      <td>-79.977217</td>\n",
       "      <td>399</td>\n",
       "      <td>179</td>\n",
       "      <td>58</td>\n",
       "      <td>121</td>\n",
       "      <td>4.0</td>\n",
       "      <td>3.0</td>\n",
       "      <td>9.495009</td>\n",
       "      <td>0.324022</td>\n",
       "    </tr>\n",
       "    <tr>\n",
       "      <th>4</th>\n",
       "      <td>5</td>\n",
       "      <td>1500000US420030201001</td>\n",
       "      <td>42</td>\n",
       "      <td>3</td>\n",
       "      <td>20100</td>\n",
       "      <td>1</td>\n",
       "      <td>40.438538</td>\n",
       "      <td>-80.001596</td>\n",
       "      <td>1717</td>\n",
       "      <td>347</td>\n",
       "      <td>47</td>\n",
       "      <td>300</td>\n",
       "      <td>5.0</td>\n",
       "      <td>3.0</td>\n",
       "      <td>9.865430</td>\n",
       "      <td>0.135447</td>\n",
       "    </tr>\n",
       "  </tbody>\n",
       "</table>\n",
       "</div>"
      ],
      "text/plain": [
       "   bg_id          census_geo_id  statefp  countyfp  tractce  blkgrpce  \\\n",
       "0      1  1500000US420030103001       42         3    10300         1   \n",
       "1      2  1500000US420030103002       42         3    10300         2   \n",
       "2      3  1500000US420030103003       42         3    10300         3   \n",
       "3      4  1500000US420030103004       42         3    10300         4   \n",
       "4      5  1500000US420030201001       42         3    20100         1   \n",
       "\n",
       "    latitude  longitude  population  num_hhs  hh_no_car  hh_car   bg  pod  \\\n",
       "0  40.434602 -79.993347        2510        0          0       0  1.0  3.0   \n",
       "1  40.436130 -79.990873        3412        0          0       0  2.0  3.0   \n",
       "2  40.437007 -79.982553         347      141         39     102  3.0  3.0   \n",
       "3  40.437364 -79.977217         399      179         58     121  4.0  3.0   \n",
       "4  40.438538 -80.001596        1717      347         47     300  5.0  3.0   \n",
       "\n",
       "    distance  prop_hh_no_car  \n",
       "0   9.571166             NaN  \n",
       "1  10.018893             NaN  \n",
       "2  10.399206        0.276596  \n",
       "3   9.495009        0.324022  \n",
       "4   9.865430        0.135447  "
      ]
     },
     "execution_count": 65,
     "metadata": {},
     "output_type": "execute_result"
    }
   ],
   "source": [
    "bg_pod_dist = pd.merge(population,\n",
    "                bg_pod_dist,\n",
    "                left_on = 'bg_id',\n",
    "                right_on = 'bg',\n",
    "                how = 'left')\n",
    "\n",
    "# calculate proportion of households with no car\n",
    "bg_pod_dist['prop_hh_no_car'] = bg_pod_dist['hh_no_car']/bg_pod_dist['num_hhs']\n",
    "bg_pod_dist.head()"
   ]
  },
  {
   "cell_type": "code",
   "execution_count": 82,
   "metadata": {},
   "outputs": [
    {
     "name": "stdout",
     "output_type": "stream",
     "text": [
      "     pod  hh_no_car\n",
      "0    1.0       2774\n",
      "1    3.0       8192\n",
      "2    8.0       1124\n",
      "3   15.0       1533\n",
      "4   16.0       1206\n",
      "5   17.0        935\n",
      "6   19.0       5046\n",
      "7   21.0       1144\n",
      "8   22.0       3875\n",
      "9   23.0        429\n",
      "10  24.0       1669\n",
      "11  27.0       5848\n",
      "12  29.0      13955\n",
      "13  30.0       6335\n",
      "14  33.0       2051\n",
      "15  39.0       2435\n",
      "16  40.0       4156\n",
      "17  42.0       1615\n",
      "18  43.0        335\n",
      "19  46.0       6492\n"
     ]
    },
    {
     "data": {
      "image/png": "[encoded data removed]",
      "text/plain": [
       "<Figure size 432x288 with 1 Axes>"
      ]
     },
     "metadata": {
      "needs_background": "light"
     },
     "output_type": "display_data"
    },
    {
     "name": "stdout",
     "output_type": "stream",
     "text": [
      "The average number of households with no car is 3,557\n",
      "Of these PODs, POD X has the highest number of households with no car: 13,955\n",
      "Of these PODs, POD X has the lowest number of households with no car is 335\n"
     ]
    }
   ],
   "source": [
    "pod_no_car = bg_pod_dist.groupby(\"pod\").hh_no_car.sum().reset_index()\n",
    "print(pod_no_car)\n",
    "\n",
    "plt.bar(pod_no_car['pod'], pod_no_car['hh_no_car'],align='center', alpha=0.7)\n",
    "plt.ylabel('Number of HHs with No Car')\n",
    "plt.xlabel('POD ID')\n",
    "plt.title('Number of Households with No Access to Car by POD')\n",
    "plt.show()\n",
    "\n",
    "# reword and edit/add POD id #\n",
    "print(\"The average number of households with no car is\",  \"{:,.0f}\".format(np.average(pod_no_car['hh_no_car'])))\n",
    "print(\"Of these PODs, POD X has the highest number of households with no car:\",  \"{:,.0f}\".format(np.max(pod_no_car['hh_no_car'])))\n",
    "print(\"Of these PODs, POD X has the lowest number of households with no car is\",  \"{:,.0f}\".format(np.min(pod_no_car['hh_no_car'])))"
   ]
  },
  {
   "cell_type": "code",
   "execution_count": 84,
   "metadata": {},
   "outputs": [
    {
     "name": "stdout",
     "output_type": "stream",
     "text": [
      "     pod  prop_hh_no_car\n",
      "0    1.0        0.079565\n",
      "1    3.0        0.206822\n",
      "2    8.0        0.107264\n",
      "3   15.0        0.065507\n",
      "4   16.0        0.051702\n",
      "5   17.0        0.082905\n",
      "6   19.0        0.180768\n",
      "7   21.0        0.067994\n",
      "8   22.0        0.093460\n",
      "9   23.0        0.025411\n",
      "10  24.0        0.053452\n",
      "11  27.0        0.197059\n",
      "12  29.0        0.262568\n",
      "13  30.0        0.235250\n",
      "14  33.0        0.080625\n",
      "15  39.0        0.155236\n",
      "16  40.0        0.173428\n",
      "17  42.0        0.054077\n",
      "18  43.0        0.030155\n",
      "19  46.0        0.194729\n"
     ]
    },
    {
     "data": {
      "image/png": "[encoded data removed]",
      "text/plain": [
       "<Figure size 432x288 with 1 Axes>"
      ]
     },
     "metadata": {
      "needs_background": "light"
     },
     "output_type": "display_data"
    },
    {
     "name": "stdout",
     "output_type": "stream",
     "text": [
      "Average percentage of households with no car is 0.12 .\n",
      "The POD with the highest percentage of households with no car is 0.26 by POD X.\n",
      "The POD with the lowest percentage of households with no car is 0.03 by POD X.\n"
     ]
    }
   ],
   "source": [
    "pod_prop_no_car = bg_pod_dist.groupby(\"pod\").prop_hh_no_car.mean().reset_index()\n",
    "print(pod_prop_no_car)\n",
    "\n",
    "plt.bar(pod_prop_no_car['pod'], pod_prop_no_car['prop_hh_no_car'],align='center', alpha=0.7)\n",
    "plt.ylabel('Percentage')\n",
    "plt.xlabel('POD ID')\n",
    "plt.title('Percent of Households with No Access to Car by POD')\n",
    "plt.show()\n",
    "\n",
    "# reword and edit/add POD id #\n",
    "print(\"Average percentage of households with no car is\",  \"{:,.2f}\".format(np.average(pod_prop_no_car['prop_hh_no_car'])), \".\")\n",
    "print(\"The POD with the highest percentage of households with no car is\",  \"{:,.2f}\".format(np.max(pod_prop_no_car['prop_hh_no_car'])), \"by POD X.\")\n",
    "print(\"The POD with the lowest percentage of households with no car is\",  \"{:,.2f}\".format(np.min(pod_prop_no_car['prop_hh_no_car'])), \"by POD X.\")"
   ]
  },
  {
   "cell_type": "code",
   "execution_count": 79,
   "metadata": {},
   "outputs": [
    {
     "name": "stdout",
     "output_type": "stream",
     "text": [
      "     pod   distance\n",
      "0    1.0  12.914348\n",
      "1    3.0   8.211246\n",
      "2    8.0  18.432489\n",
      "3   15.0  14.227429\n",
      "4   16.0  20.654651\n",
      "5   17.0  17.896709\n",
      "6   19.0  15.789898\n",
      "7   21.0   8.756288\n",
      "8   22.0  15.436644\n",
      "9   23.0  19.397512\n",
      "10  24.0   7.137827\n",
      "11  27.0  15.717260\n",
      "12  29.0  19.584789\n",
      "13  30.0   3.704170\n",
      "14  33.0  27.660654\n",
      "15  39.0  22.591727\n",
      "16  40.0  13.346390\n",
      "17  42.0   9.767141\n",
      "18  43.0  14.019290\n",
      "19  46.0   2.900236\n"
     ]
    },
    {
     "data": {
      "image/png": "[encoded data removed]",
      "text/plain": [
       "<Figure size 432x288 with 1 Axes>"
      ]
     },
     "metadata": {
      "needs_background": "light"
     },
     "output_type": "display_data"
    },
    {
     "name": "stdout",
     "output_type": "stream",
     "text": [
      "The average distance between a POD and Block Group is 14.41 miles\n",
      "POD X has the lowest average distance betwee POD and block group at 2.90 miles\n",
      "POD X has the highest average distance betwee POD and block group at 27.66 miles\n"
     ]
    }
   ],
   "source": [
    "pod_dist = bg_pod_dist.groupby(\"pod\").distance.mean().reset_index()\n",
    "print(pod_dist)\n",
    "\n",
    "plt.bar(pod_dist['pod'], pod_dist['distance'],align='center', alpha=0.7)\n",
    "plt.ylabel('Distance (miles)')\n",
    "plt.xlabel('POD ID')\n",
    "plt.title('Average Distance between POD and Assigned Block Groups (Miles)')\n",
    "plt.show()\n",
    "\n",
    "# add POD id #\n",
    "print(\"The average distance between a POD and Block Group is\",  \"{:,.2f}\".format(np.average(pod_dist[\"distance\"])), \"miles\")\n",
    "print(\"POD X has the lowest average distance between POD and block group at\",  \"{:,.2f}\".format(np.min(pod_dist[\"distance\"])), \"miles\")\n",
    "print(\"POD X has the highest average distance between POD and block group at\",  \"{:,.2f}\".format(np.max(pod_dist[\"distance\"])), \"miles\")\n"
   ]
  },
  {
   "cell_type": "markdown",
   "metadata": {},
   "source": [
    "### POD capacity"
   ]
  },
  {
   "cell_type": "code",
   "execution_count": null,
   "metadata": {},
   "outputs": [],
   "source": [
    "# capacity_pod_all = [[N[j], i] for [j,i] in block_pod_list]"
   ]
  },
  {
   "cell_type": "code",
   "execution_count": null,
   "metadata": {},
   "outputs": [],
   "source": [
    "# capacity_pod = {}\n",
    "# for [N, i] in capacity_pod_all:\n",
    "#     if i not in capacity_pod:\n",
    "#         capacity_pod[i] = N\n",
    "#     else:\n",
    "#         capacity_pod[i] += N"
   ]
  },
  {
   "cell_type": "code",
   "execution_count": null,
   "metadata": {},
   "outputs": [],
   "source": [
    "# max(capacity_pod.values())"
   ]
  },
  {
   "cell_type": "code",
   "execution_count": null,
   "metadata": {},
   "outputs": [],
   "source": [
    "# min(capacity_pod.values())"
   ]
  },
  {
   "cell_type": "code",
   "execution_count": null,
   "metadata": {},
   "outputs": [],
   "source": []
  }
 ],
 "metadata": {
  "kernelspec": {
   "display_name": "Python 3",
   "language": "python",
   "name": "python3"
  },
  "language_info": {
   "codemirror_mode": {
    "name": "ipython",
    "version": 3
   },
   "file_extension": ".py",
   "mimetype": "text/x-python",
   "name": "python",
   "nbconvert_exporter": "python",
   "pygments_lexer": "ipython3",
   "version": "3.7.6"
  }
 },
 "nbformat": 4,
 "nbformat_minor": 4
}
