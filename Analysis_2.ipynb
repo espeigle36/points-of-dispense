{
 "cells": [
  {
   "cell_type": "markdown",
   "metadata": {},
   "source": [
    "## Points of Dispense Analysis 2\n",
    "\n",
    "##### Maxwell Kennady, Nora Murray, Elizabeth Speigle"
   ]
  },
  {
   "cell_type": "code",
   "execution_count": 1,
   "metadata": {},
   "outputs": [],
   "source": [
    "import pandas as pd\n",
    "import numpy as np\n",
    "import matplotlib.pyplot as plt\n",
    "import pickle\n",
    "%matplotlib inline"
   ]
  },
  {
   "cell_type": "code",
   "execution_count": 2,
   "metadata": {},
   "outputs": [],
   "source": [
    "distances = pd.read_csv('data/OD_Pairs_Distances.csv')\n",
    "population = pd.read_excel('data/BG_master.xlsx')\n",
    "bg_included = pd.read_csv('data/bg_pop_included.csv')\n",
    "pods = pd.read_csv('data/POD_ids.csv')"
   ]
  },
  {
   "cell_type": "code",
   "execution_count": 3,
   "metadata": {},
   "outputs": [],
   "source": [
    "dist_miles = distances.pivot(index='block_group', columns='pod_id', values='Miles')"
   ]
  },
  {
   "cell_type": "code",
   "execution_count": 4,
   "metadata": {},
   "outputs": [],
   "source": [
    "dist = dist_miles.values\n",
    "N = population['population'].values\n",
    "prop = bg_included['all_included'].values"
   ]
  },
  {
   "cell_type": "code",
   "execution_count": 5,
   "metadata": {},
   "outputs": [],
   "source": [
    "infile = open('pods_open_total2','rb')\n",
    "pods_total = pickle.load(infile)\n",
    "infile.close()"
   ]
  },
  {
   "cell_type": "code",
   "execution_count": 6,
   "metadata": {},
   "outputs": [],
   "source": [
    "infile = open('pods_open_minmax2','rb')\n",
    "pods_minmax = pickle.load(infile)\n",
    "infile.close()"
   ]
  },
  {
   "cell_type": "code",
   "execution_count": 7,
   "metadata": {},
   "outputs": [],
   "source": [
    "infile = open('pods_flood_total2','rb')\n",
    "pods_flood_total2 = pickle.load(infile)\n",
    "infile.close()"
   ]
  },
  {
   "cell_type": "code",
   "execution_count": 8,
   "metadata": {},
   "outputs": [],
   "source": [
    "infile = open('pods_flood_minmax2','rb')\n",
    "pods_flood_minmax2 = pickle.load(infile)\n",
    "infile.close()"
   ]
  },
  {
   "cell_type": "code",
   "execution_count": 9,
   "metadata": {},
   "outputs": [],
   "source": [
    "infile = open('pods_anthrax_total','rb')\n",
    "pods_anthrax_total = pickle.load(infile)\n",
    "infile.close()"
   ]
  },
  {
   "cell_type": "code",
   "execution_count": 10,
   "metadata": {},
   "outputs": [],
   "source": [
    "infile = open('pods_anthrax_minmax2','rb')\n",
    "pods_anthrax_minmax2 = pickle.load(infile)\n",
    "infile.close()"
   ]
  },
  {
   "cell_type": "markdown",
   "metadata": {},
   "source": [
    "### Population\n",
    "\n",
    "#### Analysis of population served by each POD in global model (disease outbreak)\n",
    "\n",
    "#### Minimize total distance model"
   ]
  },
  {
   "cell_type": "code",
   "execution_count": 11,
   "metadata": {
    "scrolled": false
   },
   "outputs": [
    {
     "data": {
      "text/html": [
       "<div>\n",
       "<style scoped>\n",
       "    .dataframe tbody tr th:only-of-type {\n",
       "        vertical-align: middle;\n",
       "    }\n",
       "\n",
       "    .dataframe tbody tr th {\n",
       "        vertical-align: top;\n",
       "    }\n",
       "\n",
       "    .dataframe thead th {\n",
       "        text-align: right;\n",
       "    }\n",
       "</style>\n",
       "<table border=\"1\" class=\"dataframe\">\n",
       "  <thead>\n",
       "    <tr style=\"text-align: right;\">\n",
       "      <th></th>\n",
       "      <th>bg_id</th>\n",
       "      <th>census_geo_id</th>\n",
       "      <th>statefp</th>\n",
       "      <th>countyfp</th>\n",
       "      <th>tractce</th>\n",
       "      <th>blkgrpce</th>\n",
       "      <th>latitude</th>\n",
       "      <th>longitude</th>\n",
       "      <th>population</th>\n",
       "      <th>num_hhs</th>\n",
       "      <th>hh_no_car</th>\n",
       "      <th>hh_car</th>\n",
       "      <th>flood</th>\n",
       "      <th>anthrax</th>\n",
       "      <th>global</th>\n",
       "    </tr>\n",
       "  </thead>\n",
       "  <tbody>\n",
       "    <tr>\n",
       "      <th>0</th>\n",
       "      <td>1</td>\n",
       "      <td>1500000US420030103001</td>\n",
       "      <td>42</td>\n",
       "      <td>3</td>\n",
       "      <td>10300</td>\n",
       "      <td>1</td>\n",
       "      <td>40.434602</td>\n",
       "      <td>-79.993347</td>\n",
       "      <td>2510</td>\n",
       "      <td>0</td>\n",
       "      <td>0</td>\n",
       "      <td>0</td>\n",
       "      <td>0</td>\n",
       "      <td>1.0</td>\n",
       "      <td>1</td>\n",
       "    </tr>\n",
       "    <tr>\n",
       "      <th>1</th>\n",
       "      <td>2</td>\n",
       "      <td>1500000US420030103002</td>\n",
       "      <td>42</td>\n",
       "      <td>3</td>\n",
       "      <td>10300</td>\n",
       "      <td>2</td>\n",
       "      <td>40.436130</td>\n",
       "      <td>-79.990873</td>\n",
       "      <td>3412</td>\n",
       "      <td>0</td>\n",
       "      <td>0</td>\n",
       "      <td>0</td>\n",
       "      <td>0</td>\n",
       "      <td>1.0</td>\n",
       "      <td>1</td>\n",
       "    </tr>\n",
       "    <tr>\n",
       "      <th>2</th>\n",
       "      <td>3</td>\n",
       "      <td>1500000US420030103003</td>\n",
       "      <td>42</td>\n",
       "      <td>3</td>\n",
       "      <td>10300</td>\n",
       "      <td>3</td>\n",
       "      <td>40.437007</td>\n",
       "      <td>-79.982553</td>\n",
       "      <td>347</td>\n",
       "      <td>141</td>\n",
       "      <td>39</td>\n",
       "      <td>102</td>\n",
       "      <td>0</td>\n",
       "      <td>0.9</td>\n",
       "      <td>1</td>\n",
       "    </tr>\n",
       "    <tr>\n",
       "      <th>3</th>\n",
       "      <td>4</td>\n",
       "      <td>1500000US420030103004</td>\n",
       "      <td>42</td>\n",
       "      <td>3</td>\n",
       "      <td>10300</td>\n",
       "      <td>4</td>\n",
       "      <td>40.437364</td>\n",
       "      <td>-79.977217</td>\n",
       "      <td>399</td>\n",
       "      <td>179</td>\n",
       "      <td>58</td>\n",
       "      <td>121</td>\n",
       "      <td>0</td>\n",
       "      <td>0.7</td>\n",
       "      <td>1</td>\n",
       "    </tr>\n",
       "    <tr>\n",
       "      <th>4</th>\n",
       "      <td>5</td>\n",
       "      <td>1500000US420030201001</td>\n",
       "      <td>42</td>\n",
       "      <td>3</td>\n",
       "      <td>20100</td>\n",
       "      <td>1</td>\n",
       "      <td>40.438538</td>\n",
       "      <td>-80.001596</td>\n",
       "      <td>1717</td>\n",
       "      <td>347</td>\n",
       "      <td>47</td>\n",
       "      <td>300</td>\n",
       "      <td>0</td>\n",
       "      <td>1.0</td>\n",
       "      <td>1</td>\n",
       "    </tr>\n",
       "  </tbody>\n",
       "</table>\n",
       "</div>"
      ],
      "text/plain": [
       "   bg_id          census_geo_id  statefp  countyfp  tractce  blkgrpce  \\\n",
       "0      1  1500000US420030103001       42         3    10300         1   \n",
       "1      2  1500000US420030103002       42         3    10300         2   \n",
       "2      3  1500000US420030103003       42         3    10300         3   \n",
       "3      4  1500000US420030103004       42         3    10300         4   \n",
       "4      5  1500000US420030201001       42         3    20100         1   \n",
       "\n",
       "    latitude  longitude  population  num_hhs  hh_no_car  hh_car  flood  \\\n",
       "0  40.434602 -79.993347        2510        0          0       0      0   \n",
       "1  40.436130 -79.990873        3412        0          0       0      0   \n",
       "2  40.437007 -79.982553         347      141         39     102      0   \n",
       "3  40.437364 -79.977217         399      179         58     121      0   \n",
       "4  40.438538 -80.001596        1717      347         47     300      0   \n",
       "\n",
       "   anthrax  global  \n",
       "0      1.0       1  \n",
       "1      1.0       1  \n",
       "2      0.9       1  \n",
       "3      0.7       1  \n",
       "4      1.0       1  "
      ]
     },
     "execution_count": 11,
     "metadata": {},
     "output_type": "execute_result"
    }
   ],
   "source": [
    "population.head()"
   ]
  },
  {
   "cell_type": "code",
   "execution_count": 12,
   "metadata": {},
   "outputs": [],
   "source": [
    "# set number of pods to open (10-47)\n",
    "num_pods_open = 19"
   ]
  },
  {
   "cell_type": "code",
   "execution_count": 13,
   "metadata": {
    "scrolled": true
   },
   "outputs": [],
   "source": [
    "#Merge population and pod data frames\n",
    "pods_open_total = pd.DataFrame(pods_total[num_pods_open])\n",
    "pods_open_total.columns = [\"bg\",\"pod\"]\n",
    "\n",
    "pods_open_total['bg'] = pods_open_total['bg'] + 1\n",
    "pods_open_total['pod'] = pods_open_total['pod'] + 1\n",
    "\n",
    "pods_open_total = pd.merge(population,\n",
    "                     pods_open_total,\n",
    "                     left_on = 'bg_id',\n",
    "                     right_on = 'bg',\n",
    "                     how = 'left')"
   ]
  },
  {
   "cell_type": "code",
   "execution_count": null,
   "metadata": {},
   "outputs": [],
   "source": [
    "# export pods open DataFrame to csv\n",
    "pods_open_total.to_csv ('data/total_19PODs_BGassignment.csv', index = False, header=True)\n",
    "\n",
    "pods_open_total.head()"
   ]
  },
  {
   "cell_type": "code",
   "execution_count": 14,
   "metadata": {},
   "outputs": [
    {
     "data": {
      "image/png": "[encoded data removed]",
      "text/plain": [
       "<Figure size 432x288 with 1 Axes>"
      ]
     },
     "metadata": {
      "needs_background": "light"
     },
     "output_type": "display_data"
    },
    {
     "name": "stdout",
     "output_type": "stream",
     "text": [
      "The average number of people served by a POD is 64,532\n"
     ]
    }
   ],
   "source": [
    "pods_open_total = pods_open_total.groupby(\"pod\").population.sum().reset_index()\n",
    "\n",
    "plt.bar(pods_open_total['pod'], pods_open_total['population'],align='center', alpha=0.7)\n",
    "plt.ylabel('Population')\n",
    "plt.xlabel('POD ID')\n",
    "plt.xlim(0)\n",
    "plt.title('Total population served by each POD')\n",
    "plt.show()\n",
    "\n",
    "print(\"The average number of people served by a POD is\",  \"{:,.0f}\".format(np.average(pods_open_total['population'])))"
   ]
  },
  {
   "cell_type": "code",
   "execution_count": null,
   "metadata": {},
   "outputs": [],
   "source": [
    "pods_open_total.to_csv ('data/total_19PODs_popbypod.csv', index = False, header=True)\n",
    "\n",
    "pods_open_total"
   ]
  },
  {
   "cell_type": "markdown",
   "metadata": {},
   "source": [
    "#### Minimize maximum distance model"
   ]
  },
  {
   "cell_type": "code",
   "execution_count": 15,
   "metadata": {},
   "outputs": [],
   "source": [
    "#Merge population and pod data frames\n",
    "pods_open_minmax = pd.DataFrame(pods_minmax[num_pods_open])\n",
    "pods_open_minmax.columns = [\"bg\",\"pod\"]\n",
    "\n",
    "pods_open_minmax['bg'] = pods_open_minmax['bg'] + 1\n",
    "pods_open_minmax['pod'] = pods_open_minmax['pod'] + 1\n",
    "\n",
    "pods_open_minmax = pd.merge(population,\n",
    "                     pods_open_minmax,\n",
    "                     left_on = 'bg_id',\n",
    "                     right_on = 'bg',\n",
    "                     how = 'left')"
   ]
  },
  {
   "cell_type": "code",
   "execution_count": null,
   "metadata": {},
   "outputs": [],
   "source": [
    "#export pods open DataFrame to csv\n",
    "pods_open_minmax.to_csv ('data/minmax_19PODs_BGassignment.csv', index = False, header=True)\n",
    "\n",
    "pods_open_minmax.head()"
   ]
  },
  {
   "cell_type": "code",
   "execution_count": 16,
   "metadata": {},
   "outputs": [
    {
     "data": {
      "image/png": "[encoded data removed]",
      "text/plain": [
       "<Figure size 432x288 with 1 Axes>"
      ]
     },
     "metadata": {
      "needs_background": "light"
     },
     "output_type": "display_data"
    },
    {
     "name": "stdout",
     "output_type": "stream",
     "text": [
      "The average number of people served by a POD is 64,532\n"
     ]
    }
   ],
   "source": [
    "pods_open_minmax = pods_open_minmax.groupby(\"pod\").population.sum().reset_index()\n",
    "\n",
    "plt.bar(pods_open_minmax['pod'], pods_open_minmax['population'],align='center', alpha=0.7)\n",
    "plt.ylabel('Population')\n",
    "plt.xlabel('POD ID')\n",
    "plt.xlim(0)\n",
    "plt.title('Total population served by each POD')\n",
    "plt.show()\n",
    "\n",
    "print(\"The average number of people served by a POD is\",  \"{:,.0f}\".format(np.average(pods_open_minmax['population'])))"
   ]
  },
  {
   "cell_type": "code",
   "execution_count": null,
   "metadata": {},
   "outputs": [],
   "source": [
    "#export data to csv\n",
    "pods_open_minmax.to_csv ('data/minmax_19PODs_popbypod.csv', index = False, header=True)\n",
    "\n",
    "pods_open_minmax"
   ]
  },
  {
   "cell_type": "markdown",
   "metadata": {},
   "source": [
    "### Number of cars and distance between block group and PODs"
   ]
  },
  {
   "cell_type": "markdown",
   "metadata": {},
   "source": [
    "Analysis on number of households with no car and distance between block group and \n",
    "avg distance between POD and its selected BGs"
   ]
  },
  {
   "cell_type": "code",
   "execution_count": 48,
   "metadata": {},
   "outputs": [
    {
     "data": {
      "text/html": [
       "<div>\n",
       "<style scoped>\n",
       "    .dataframe tbody tr th:only-of-type {\n",
       "        vertical-align: middle;\n",
       "    }\n",
       "\n",
       "    .dataframe tbody tr th {\n",
       "        vertical-align: top;\n",
       "    }\n",
       "\n",
       "    .dataframe thead th {\n",
       "        text-align: right;\n",
       "    }\n",
       "</style>\n",
       "<table border=\"1\" class=\"dataframe\">\n",
       "  <thead>\n",
       "    <tr style=\"text-align: right;\">\n",
       "      <th></th>\n",
       "      <th>bg</th>\n",
       "      <th>pod</th>\n",
       "    </tr>\n",
       "  </thead>\n",
       "  <tbody>\n",
       "    <tr>\n",
       "      <th>0</th>\n",
       "      <td>0</td>\n",
       "      <td>6</td>\n",
       "    </tr>\n",
       "    <tr>\n",
       "      <th>1</th>\n",
       "      <td>1</td>\n",
       "      <td>6</td>\n",
       "    </tr>\n",
       "    <tr>\n",
       "      <th>2</th>\n",
       "      <td>2</td>\n",
       "      <td>30</td>\n",
       "    </tr>\n",
       "    <tr>\n",
       "      <th>3</th>\n",
       "      <td>3</td>\n",
       "      <td>30</td>\n",
       "    </tr>\n",
       "    <tr>\n",
       "      <th>4</th>\n",
       "      <td>4</td>\n",
       "      <td>27</td>\n",
       "    </tr>\n",
       "  </tbody>\n",
       "</table>\n",
       "</div>"
      ],
      "text/plain": [
       "   bg  pod\n",
       "0   0    6\n",
       "1   1    6\n",
       "2   2   30\n",
       "3   3   30\n",
       "4   4   27"
      ]
     },
     "execution_count": 48,
     "metadata": {},
     "output_type": "execute_result"
    }
   ],
   "source": [
    "pods_open = pd.DataFrame(pods_total[num_pods_open])\n",
    "pods_open.columns = [\"bg\",\"pod\"]\n",
    "\n",
    "pods_open.head()"
   ]
  },
  {
   "cell_type": "code",
   "execution_count": 49,
   "metadata": {},
   "outputs": [],
   "source": [
    "bg_pod_dist = []\n",
    "    \n",
    "for i in np.arange(0,len(pods_open_car)):    \n",
    "    bg_pod_dist.append(dist_miles.iloc[pods_open.iloc[i,0],(pods_open.iloc[i,1]-1)])\n",
    "\n",
    "\n",
    "\n",
    "bg_pod_dist = pd.merge(pods_open, \n",
    "                pd.DataFrame(bg_pod_dist), \n",
    "                left_index=True, \n",
    "                right_index=True)\n",
    "\n",
    "bg_pod_dist.columns = [\"bg\",\"pod\",\"distance\"]"
   ]
  },
  {
   "cell_type": "code",
   "execution_count": 50,
   "metadata": {},
   "outputs": [
    {
     "data": {
      "text/html": [
       "<div>\n",
       "<style scoped>\n",
       "    .dataframe tbody tr th:only-of-type {\n",
       "        vertical-align: middle;\n",
       "    }\n",
       "\n",
       "    .dataframe tbody tr th {\n",
       "        vertical-align: top;\n",
       "    }\n",
       "\n",
       "    .dataframe thead th {\n",
       "        text-align: right;\n",
       "    }\n",
       "</style>\n",
       "<table border=\"1\" class=\"dataframe\">\n",
       "  <thead>\n",
       "    <tr style=\"text-align: right;\">\n",
       "      <th></th>\n",
       "      <th>bg_id</th>\n",
       "      <th>census_geo_id</th>\n",
       "      <th>statefp</th>\n",
       "      <th>countyfp</th>\n",
       "      <th>tractce</th>\n",
       "      <th>blkgrpce</th>\n",
       "      <th>latitude</th>\n",
       "      <th>longitude</th>\n",
       "      <th>population</th>\n",
       "      <th>num_hhs</th>\n",
       "      <th>hh_no_car</th>\n",
       "      <th>hh_car</th>\n",
       "      <th>flood</th>\n",
       "      <th>anthrax</th>\n",
       "      <th>global</th>\n",
       "      <th>bg</th>\n",
       "      <th>pod</th>\n",
       "      <th>distance</th>\n",
       "      <th>prop_hh_no_car</th>\n",
       "    </tr>\n",
       "  </thead>\n",
       "  <tbody>\n",
       "    <tr>\n",
       "      <th>0</th>\n",
       "      <td>1</td>\n",
       "      <td>1500000US420030103001</td>\n",
       "      <td>42</td>\n",
       "      <td>3</td>\n",
       "      <td>10300</td>\n",
       "      <td>1</td>\n",
       "      <td>40.434602</td>\n",
       "      <td>-79.993347</td>\n",
       "      <td>2510</td>\n",
       "      <td>0</td>\n",
       "      <td>0</td>\n",
       "      <td>0</td>\n",
       "      <td>0</td>\n",
       "      <td>1.0</td>\n",
       "      <td>1</td>\n",
       "      <td>1.0</td>\n",
       "      <td>6.0</td>\n",
       "      <td>7.226126</td>\n",
       "      <td>NaN</td>\n",
       "    </tr>\n",
       "    <tr>\n",
       "      <th>1</th>\n",
       "      <td>2</td>\n",
       "      <td>1500000US420030103002</td>\n",
       "      <td>42</td>\n",
       "      <td>3</td>\n",
       "      <td>10300</td>\n",
       "      <td>2</td>\n",
       "      <td>40.436130</td>\n",
       "      <td>-79.990873</td>\n",
       "      <td>3412</td>\n",
       "      <td>0</td>\n",
       "      <td>0</td>\n",
       "      <td>0</td>\n",
       "      <td>0</td>\n",
       "      <td>1.0</td>\n",
       "      <td>1</td>\n",
       "      <td>2.0</td>\n",
       "      <td>30.0</td>\n",
       "      <td>4.539034</td>\n",
       "      <td>NaN</td>\n",
       "    </tr>\n",
       "    <tr>\n",
       "      <th>2</th>\n",
       "      <td>3</td>\n",
       "      <td>1500000US420030103003</td>\n",
       "      <td>42</td>\n",
       "      <td>3</td>\n",
       "      <td>10300</td>\n",
       "      <td>3</td>\n",
       "      <td>40.437007</td>\n",
       "      <td>-79.982553</td>\n",
       "      <td>347</td>\n",
       "      <td>141</td>\n",
       "      <td>39</td>\n",
       "      <td>102</td>\n",
       "      <td>0</td>\n",
       "      <td>0.9</td>\n",
       "      <td>1</td>\n",
       "      <td>3.0</td>\n",
       "      <td>30.0</td>\n",
       "      <td>4.544865</td>\n",
       "      <td>0.276596</td>\n",
       "    </tr>\n",
       "    <tr>\n",
       "      <th>3</th>\n",
       "      <td>4</td>\n",
       "      <td>1500000US420030103004</td>\n",
       "      <td>42</td>\n",
       "      <td>3</td>\n",
       "      <td>10300</td>\n",
       "      <td>4</td>\n",
       "      <td>40.437364</td>\n",
       "      <td>-79.977217</td>\n",
       "      <td>399</td>\n",
       "      <td>179</td>\n",
       "      <td>58</td>\n",
       "      <td>121</td>\n",
       "      <td>0</td>\n",
       "      <td>0.7</td>\n",
       "      <td>1</td>\n",
       "      <td>4.0</td>\n",
       "      <td>27.0</td>\n",
       "      <td>12.424889</td>\n",
       "      <td>0.324022</td>\n",
       "    </tr>\n",
       "    <tr>\n",
       "      <th>4</th>\n",
       "      <td>5</td>\n",
       "      <td>1500000US420030201001</td>\n",
       "      <td>42</td>\n",
       "      <td>3</td>\n",
       "      <td>20100</td>\n",
       "      <td>1</td>\n",
       "      <td>40.438538</td>\n",
       "      <td>-80.001596</td>\n",
       "      <td>1717</td>\n",
       "      <td>347</td>\n",
       "      <td>47</td>\n",
       "      <td>300</td>\n",
       "      <td>0</td>\n",
       "      <td>1.0</td>\n",
       "      <td>1</td>\n",
       "      <td>5.0</td>\n",
       "      <td>27.0</td>\n",
       "      <td>12.585658</td>\n",
       "      <td>0.135447</td>\n",
       "    </tr>\n",
       "  </tbody>\n",
       "</table>\n",
       "</div>"
      ],
      "text/plain": [
       "   bg_id          census_geo_id  statefp  countyfp  tractce  blkgrpce  \\\n",
       "0      1  1500000US420030103001       42         3    10300         1   \n",
       "1      2  1500000US420030103002       42         3    10300         2   \n",
       "2      3  1500000US420030103003       42         3    10300         3   \n",
       "3      4  1500000US420030103004       42         3    10300         4   \n",
       "4      5  1500000US420030201001       42         3    20100         1   \n",
       "\n",
       "    latitude  longitude  population  num_hhs  hh_no_car  hh_car  flood  \\\n",
       "0  40.434602 -79.993347        2510        0          0       0      0   \n",
       "1  40.436130 -79.990873        3412        0          0       0      0   \n",
       "2  40.437007 -79.982553         347      141         39     102      0   \n",
       "3  40.437364 -79.977217         399      179         58     121      0   \n",
       "4  40.438538 -80.001596        1717      347         47     300      0   \n",
       "\n",
       "   anthrax  global   bg   pod   distance  prop_hh_no_car  \n",
       "0      1.0       1  1.0   6.0   7.226126             NaN  \n",
       "1      1.0       1  2.0  30.0   4.539034             NaN  \n",
       "2      0.9       1  3.0  30.0   4.544865        0.276596  \n",
       "3      0.7       1  4.0  27.0  12.424889        0.324022  \n",
       "4      1.0       1  5.0  27.0  12.585658        0.135447  "
      ]
     },
     "execution_count": 50,
     "metadata": {},
     "output_type": "execute_result"
    }
   ],
   "source": [
    "bg_pod_dist = pd.merge(population,\n",
    "                bg_pod_dist,\n",
    "                left_on = 'bg_id',\n",
    "                right_on = 'bg',\n",
    "                how = 'left')\n",
    "\n",
    "# calculate proportion of households with no car\n",
    "bg_pod_dist['prop_hh_no_car'] = bg_pod_dist['hh_no_car']/bg_pod_dist['num_hhs']\n",
    "bg_pod_dist.head()"
   ]
  },
  {
   "cell_type": "code",
   "execution_count": 52,
   "metadata": {},
   "outputs": [
    {
     "name": "stdout",
     "output_type": "stream",
     "text": [
      "     pod  hh_no_car\n",
      "0    7.0       7220\n",
      "1   16.0       1533\n",
      "2   17.0       1206\n",
      "3   18.0        935\n",
      "4   20.0       5249\n",
      "5   22.0       1144\n",
      "6   23.0       4568\n",
      "7   24.0        429\n",
      "8   25.0       1669\n",
      "9   28.0       6694\n",
      "10  30.0      14589\n",
      "11  31.0       6689\n",
      "12  34.0       2051\n",
      "13  40.0       2390\n",
      "14  41.0       4620\n",
      "15  42.0       1643\n",
      "16  43.0       1679\n",
      "17  44.0        335\n",
      "18  47.0       6506\n"
     ]
    },
    {
     "data": {
      "image/png": "[encoded data removed]",
      "text/plain": [
       "<Figure size 432x288 with 1 Axes>"
      ]
     },
     "metadata": {
      "needs_background": "light"
     },
     "output_type": "display_data"
    },
    {
     "name": "stdout",
     "output_type": "stream",
     "text": [
      "The total number of households with no car is 71,149\n",
      "The average number of households with no car is 3,745\n",
      "Of these PODs, POD X has the highest number of households with no car: 14,589\n",
      "Of these PODs, POD X has the lowest number of households with no car is 335\n"
     ]
    }
   ],
   "source": [
    "pod_no_car = bg_pod_dist.groupby(\"pod\").hh_no_car.sum().reset_index()\n",
    "pod_no_car['pod'] = pod_no_car['pod'] + 1 \n",
    "print(pod_no_car)\n",
    "\n",
    "plt.bar(pod_no_car['pod'], pod_no_car['hh_no_car'],align='center', alpha=0.7)\n",
    "plt.ylabel('Number of HHs with No Car')\n",
    "plt.xlabel('POD ID')\n",
    "plt.title('Number of Households with No Access to Car by POD')\n",
    "plt.show()\n",
    "\n",
    "\n",
    "\n",
    "print(\"The total number of households with no car is\",  \"{:,.0f}\".format(np.sum(pod_no_car['hh_no_car'])))\n",
    "print(\"The average number of households with no car is\",  \"{:,.0f}\".format(np.average(pod_no_car['hh_no_car'])))\n",
    "print(\"Of these PODs, POD X has the highest number of households with no car:\",  \"{:,.0f}\".format(np.max(pod_no_car['hh_no_car'])))\n",
    "print(\"Of these PODs, POD X has the lowest number of households with no car is\",  \"{:,.0f}\".format(np.min(pod_no_car['hh_no_car'])))"
   ]
  },
  {
   "cell_type": "code",
   "execution_count": 53,
   "metadata": {},
   "outputs": [
    {
     "name": "stdout",
     "output_type": "stream",
     "text": [
      "     pod  prop_hh_no_car\n",
      "0    7.0        0.164668\n",
      "1   16.0        0.065507\n",
      "2   17.0        0.051702\n",
      "3   18.0        0.082905\n",
      "4   20.0        0.174892\n",
      "5   22.0        0.067994\n",
      "6   23.0        0.098711\n",
      "7   24.0        0.025411\n",
      "8   25.0        0.053452\n",
      "9   28.0        0.195739\n",
      "10  30.0        0.265113\n",
      "11  31.0        0.238218\n",
      "12  34.0        0.080625\n",
      "13  40.0        0.155725\n",
      "14  41.0        0.175175\n",
      "15  42.0        0.079074\n",
      "16  43.0        0.057608\n",
      "17  44.0        0.030155\n",
      "18  47.0        0.188406\n"
     ]
    },
    {
     "data": {
      "image/png": "[encoded data removed]",
      "text/plain": [
       "<Figure size 432x288 with 1 Axes>"
      ]
     },
     "metadata": {
      "needs_background": "light"
     },
     "output_type": "display_data"
    },
    {
     "name": "stdout",
     "output_type": "stream",
     "text": [
      "Average percentage of households with no car is 0.12 .\n",
      "The POD with the highest percentage of households with no car is 0.27 by POD X.\n",
      "The POD with the lowest percentage of households with no car is 0.03 by POD X.\n"
     ]
    }
   ],
   "source": [
    "pod_prop_no_car = bg_pod_dist.groupby(\"pod\").prop_hh_no_car.mean().reset_index()\n",
    "pod_prop_no_car['pod'] = pod_prop_no_car['pod'] + 1 \n",
    "print(pod_prop_no_car)\n",
    "\n",
    "plt.bar(pod_prop_no_car['pod'], pod_prop_no_car['prop_hh_no_car'],align='center', alpha=0.7)\n",
    "plt.ylabel('Percentage')\n",
    "plt.xlabel('POD ID')\n",
    "plt.title('Percent of Households with No Access to Car by POD')\n",
    "plt.show()\n",
    "\n",
    "# reword and edit/add POD id #\n",
    "print(\"Average percentage of households with no car is\",  \"{:,.2f}\".format(np.average(pod_prop_no_car['prop_hh_no_car'])), \".\")\n",
    "print(\"The POD with the highest percentage of households with no car is\",  \"{:,.2f}\".format(np.max(pod_prop_no_car['prop_hh_no_car'])), \"by POD X.\")\n",
    "print(\"The POD with the lowest percentage of households with no car is\",  \"{:,.2f}\".format(np.min(pod_prop_no_car['prop_hh_no_car'])), \"by POD X.\")"
   ]
  },
  {
   "cell_type": "code",
   "execution_count": null,
   "metadata": {},
   "outputs": [],
   "source": [
    "pod_dist = bg_pod_dist.groupby(\"pod\").distance.mean().reset_index()\n",
    "print(pod_dist)\n",
    "\n",
    "plt.bar(pod_dist['pod'], pod_dist['distance'],align='center', alpha=0.7)\n",
    "plt.ylabel('Distance (miles)')\n",
    "plt.xlabel('POD ID')\n",
    "plt.title('Average Distance between POD and Assigned Block Groups (Miles)')\n",
    "plt.show()\n",
    "\n",
    "# add POD id #\n",
    "print(\"The average distance between a POD and Block Group is\",  \"{:,.2f}\".format(np.average(pod_dist[\"distance\"])), \"miles\")\n",
    "print(\"POD X has the lowest average distance between POD and block group at\",  \"{:,.2f}\".format(np.min(pod_dist[\"distance\"])), \"miles\")\n",
    "print(\"POD X has the highest average distance between POD and block group at\",  \"{:,.2f}\".format(np.max(pod_dist[\"distance\"])), \"miles\")\n"
   ]
  },
  {
   "cell_type": "markdown",
   "metadata": {},
   "source": [
    "### POD capacity"
   ]
  },
  {
   "cell_type": "code",
   "execution_count": null,
   "metadata": {},
   "outputs": [],
   "source": [
    "# capacity_pod_all = [[N[j], i] for [j,i] in block_pod_list]"
   ]
  },
  {
   "cell_type": "code",
   "execution_count": null,
   "metadata": {},
   "outputs": [],
   "source": [
    "# capacity_pod = {}\n",
    "# for [N, i] in capacity_pod_all:\n",
    "#     if i not in capacity_pod:\n",
    "#         capacity_pod[i] = N\n",
    "#     else:\n",
    "#         capacity_pod[i] += N"
   ]
  },
  {
   "cell_type": "code",
   "execution_count": null,
   "metadata": {},
   "outputs": [],
   "source": [
    "# max(capacity_pod.values())"
   ]
  },
  {
   "cell_type": "code",
   "execution_count": null,
   "metadata": {},
   "outputs": [],
   "source": [
    "# min(capacity_pod.values())"
   ]
  },
  {
   "cell_type": "code",
   "execution_count": null,
   "metadata": {},
   "outputs": [],
   "source": []
  }
 ],
 "metadata": {
  "kernelspec": {
   "display_name": "Python 3",
   "language": "python",
   "name": "python3"
  },
  "language_info": {
   "codemirror_mode": {
    "name": "ipython",
    "version": 3
   },
   "file_extension": ".py",
   "mimetype": "text/x-python",
   "name": "python",
   "nbconvert_exporter": "python",
   "pygments_lexer": "ipython3",
   "version": "3.7.1"
  }
 },
 "nbformat": 4,
 "nbformat_minor": 4
}
