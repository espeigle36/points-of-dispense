{
 "cells": [
  {
   "cell_type": "markdown",
   "metadata": {},
   "source": [
    "## Points of Dispense Analysis\n",
    "\n",
    "##### Maxwell Kennady, Nora Murray, Elizabeth Speigle"
   ]
  },
  {
   "cell_type": "code",
   "execution_count": 1,
   "metadata": {},
   "outputs": [],
   "source": [
    "import pandas as pd\n",
    "import numpy as np\n",
    "import matplotlib.pyplot as plt\n",
    "import pickle\n",
    "%matplotlib inline"
   ]
  },
  {
   "cell_type": "code",
   "execution_count": 2,
   "metadata": {},
   "outputs": [],
   "source": [
    "distances = pd.read_csv('data/OD_Pairs_Distances.csv')\n",
    "population = pd.read_excel('data/BG_master.xlsx')\n",
    "bg_included = pd.read_csv('data/bg_pop_included.csv')\n",
    "pods = pd.read_csv('data/POD_ids.csv')"
   ]
  },
  {
   "cell_type": "code",
   "execution_count": 3,
   "metadata": {},
   "outputs": [],
   "source": [
    "dist_miles = distances.pivot(index='block_group', columns='pod_id', values='Miles')"
   ]
  },
  {
   "cell_type": "code",
   "execution_count": 4,
   "metadata": {},
   "outputs": [],
   "source": [
    "dist = dist_miles.values\n",
    "N = population['population'].values\n",
    "prop = bg_included['all_included'].values"
   ]
  },
  {
   "cell_type": "code",
   "execution_count": 5,
   "metadata": {},
   "outputs": [],
   "source": [
    "infile = open('pods_open_total2','rb')\n",
    "pods_total = pickle.load(infile)\n",
    "infile.close()"
   ]
  },
  {
   "cell_type": "code",
   "execution_count": 6,
   "metadata": {},
   "outputs": [],
   "source": [
    "infile = open('pods_open_minmax2','rb')\n",
    "pods_minmax = pickle.load(infile)\n",
    "infile.close()"
   ]
  },
  {
   "cell_type": "markdown",
   "metadata": {},
   "source": [
    "### Population"
   ]
  },
  {
   "cell_type": "code",
   "execution_count": null,
   "metadata": {
    "scrolled": false
   },
   "outputs": [],
   "source": [
    "population.head()"
   ]
  },
  {
   "cell_type": "code",
   "execution_count": null,
   "metadata": {
    "scrolled": true
   },
   "outputs": [],
   "source": [
    "# set number of pods to open (10-47)\n",
    "num_pods_open = 19\n",
    "\n",
    "#Merge population and pod data frames\n",
    "pods_open = pd.DataFrame(pods_total[num_pods_open])\n",
    "pods_open.columns = [\"bg\",\"pod\"]\n",
    "\n",
    "pods_open = pd.merge(population,\n",
    "                     pods_open,\n",
    "                     left_on = 'bg_id',\n",
    "                     right_on = 'bg',\n",
    "                     how = 'left')\n",
    "\n",
    "pods_open.head()"
   ]
  },
  {
   "cell_type": "code",
   "execution_count": null,
   "metadata": {},
   "outputs": [],
   "source": [
    "pods_open = pods_open.groupby(\"pod\").population.sum().reset_index()\n",
    "\n",
    "plt.bar(pods_open['pod'], pods_open['population'],align='center', alpha=0.7)\n",
    "plt.ylabel('Population')\n",
    "plt.xlabel('POD ID')\n",
    "plt.title('Total population served by each POD')\n",
    "plt.show()\n",
    "\n",
    "print(\"The average number of people served by a POD is\",  \"{:,.0f}\".format(np.average(pods_open['population'])))"
   ]
  },
  {
   "cell_type": "code",
   "execution_count": null,
   "metadata": {},
   "outputs": [],
   "source": [
    "pods_open"
   ]
  },
  {
   "cell_type": "markdown",
   "metadata": {},
   "source": [
    "### Number of cars and distance between block group and PODs"
   ]
  },
  {
   "cell_type": "code",
   "execution_count": null,
   "metadata": {},
   "outputs": [],
   "source": [
    "# analysis on number of hhs with no car and distance between block group and POD\n",
    "# avg distance between POD and its selected BGs"
   ]
  },
  {
   "cell_type": "code",
   "execution_count": null,
   "metadata": {},
   "outputs": [],
   "source": [
    "pods_open = pd.DataFrame(pods_total[num_pods_open])\n",
    "pods_open.columns = [\"bg\",\"pod\"]\n",
    "pods_open.head()"
   ]
  },
  {
   "cell_type": "code",
   "execution_count": null,
   "metadata": {},
   "outputs": [],
   "source": [
    "bg_pod_dist = []\n",
    "    \n",
    "for i in np.arange(0,len(pods_open)):    \n",
    "    bg_pod_dist.append(dist_miles.iloc[pods_open.iloc[i,0],(pods_open.iloc[i,1]-1)])\n",
    "\n",
    "bg_pod_dist = pd.merge(pods_open, \n",
    "                pd.DataFrame(bg_pod_dist), \n",
    "                left_index=True, \n",
    "                right_index=True)\n",
    "\n",
    "bg_pod_dist.columns = [\"bg\",\"pod\",\"distance\"]"
   ]
  },
  {
   "cell_type": "code",
   "execution_count": null,
   "metadata": {},
   "outputs": [],
   "source": [
    "bg_pod_dist = pd.merge(population,\n",
    "                bg_pod_dist,\n",
    "                left_on = 'bg_id',\n",
    "                right_on = 'bg',\n",
    "                how = 'left')\n",
    "\n",
    "# calculate proportion of households with no car\n",
    "bg_pod_dist['prop_hh_no_car'] = bg_pod_dist['hh_no_car']/bg_pod_dist['num_hhs']\n",
    "bg_pod_dist.head()"
   ]
  },
  {
   "cell_type": "code",
   "execution_count": null,
   "metadata": {},
   "outputs": [],
   "source": [
    "pod_no_car = bg_pod_dist.groupby(\"pod\").hh_no_car.sum().reset_index()\n",
    "print(pod_no_car)\n",
    "\n",
    "plt.bar(pod_no_car['pod'], pod_no_car['hh_no_car'],align='center', alpha=0.7)\n",
    "plt.ylabel('Number of HHs with No Car')\n",
    "plt.xlabel('POD ID')\n",
    "plt.title('Number of Households with No Access to Car by POD')\n",
    "plt.show()\n",
    "\n",
    "# reword and edit/add POD id #\n",
    "print(\"The average number of households with no car is\",  \"{:,.0f}\".format(np.average(pod_no_car['hh_no_car'])))\n",
    "print(\"Of these PODs, POD X has the highest number of households with no car:\",  \"{:,.0f}\".format(np.max(pod_no_car['hh_no_car'])))\n",
    "print(\"Of these PODs, POD X has the lowest number of households with no car is\",  \"{:,.0f}\".format(np.min(pod_no_car['hh_no_car'])))"
   ]
  },
  {
   "cell_type": "code",
   "execution_count": null,
   "metadata": {},
   "outputs": [],
   "source": [
    "pod_prop_no_car = bg_pod_dist.groupby(\"pod\").prop_hh_no_car.mean().reset_index()\n",
    "print(pod_prop_no_car)\n",
    "\n",
    "plt.bar(pod_prop_no_car['pod'], pod_prop_no_car['prop_hh_no_car'],align='center', alpha=0.7)\n",
    "plt.ylabel('Percentage')\n",
    "plt.xlabel('POD ID')\n",
    "plt.title('Percent of Households with No Access to Car by POD')\n",
    "plt.show()\n",
    "\n",
    "# reword and edit/add POD id #\n",
    "print(\"Average percentage of households with no car is\",  \"{:,.2f}\".format(np.average(pod_prop_no_car['prop_hh_no_car'])), \".\")\n",
    "print(\"The POD with the highest percentage of households with no car is\",  \"{:,.2f}\".format(np.max(pod_prop_no_car['prop_hh_no_car'])), \"by POD X.\")\n",
    "print(\"The POD with the lowest percentage of households with no car is\",  \"{:,.2f}\".format(np.min(pod_prop_no_car['prop_hh_no_car'])), \"by POD X.\")"
   ]
  },
  {
   "cell_type": "code",
   "execution_count": null,
   "metadata": {},
   "outputs": [],
   "source": [
    "pod_dist = bg_pod_dist.groupby(\"pod\").distance.mean().reset_index()\n",
    "print(pod_dist)\n",
    "\n",
    "plt.bar(pod_dist['pod'], pod_dist['distance'],align='center', alpha=0.7)\n",
    "plt.ylabel('Distance (miles)')\n",
    "plt.xlabel('POD ID')\n",
    "plt.title('Average Distance between POD and Assigned Block Groups (Miles)')\n",
    "plt.show()\n",
    "\n",
    "# add POD id #\n",
    "print(\"The average distance between a POD and Block Group is\",  \"{:,.2f}\".format(np.average(pod_dist[\"distance\"])), \"miles\")\n",
    "print(\"POD X has the lowest average distance between POD and block group at\",  \"{:,.2f}\".format(np.min(pod_dist[\"distance\"])), \"miles\")\n",
    "print(\"POD X has the highest average distance between POD and block group at\",  \"{:,.2f}\".format(np.max(pod_dist[\"distance\"])), \"miles\")\n"
   ]
  },
  {
   "cell_type": "markdown",
   "metadata": {},
   "source": [
    "### POD capacity"
   ]
  },
  {
   "cell_type": "code",
   "execution_count": null,
   "metadata": {},
   "outputs": [],
   "source": [
    "# capacity_pod_all = [[N[j], i] for [j,i] in block_pod_list]"
   ]
  },
  {
   "cell_type": "code",
   "execution_count": null,
   "metadata": {},
   "outputs": [],
   "source": [
    "# capacity_pod = {}\n",
    "# for [N, i] in capacity_pod_all:\n",
    "#     if i not in capacity_pod:\n",
    "#         capacity_pod[i] = N\n",
    "#     else:\n",
    "#         capacity_pod[i] += N"
   ]
  },
  {
   "cell_type": "code",
   "execution_count": null,
   "metadata": {},
   "outputs": [],
   "source": [
    "# max(capacity_pod.values())"
   ]
  },
  {
   "cell_type": "code",
   "execution_count": null,
   "metadata": {},
   "outputs": [],
   "source": [
    "# min(capacity_pod.values())"
   ]
  },
  {
   "cell_type": "code",
   "execution_count": null,
   "metadata": {},
   "outputs": [],
   "source": []
  }
 ],
 "metadata": {
  "kernelspec": {
   "display_name": "Python 3",
   "language": "python",
   "name": "python3"
  },
  "language_info": {
   "codemirror_mode": {
    "name": "ipython",
    "version": 3
   },
   "file_extension": ".py",
   "mimetype": "text/x-python",
   "name": "python",
   "nbconvert_exporter": "python",
   "pygments_lexer": "ipython3",
   "version": "3.7.1"
  }
 },
 "nbformat": 4,
 "nbformat_minor": 4
}
