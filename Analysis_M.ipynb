{
 "cells": [
  {
   "cell_type": "markdown",
   "metadata": {},
   "source": [
    "## Points of Dispense Analysis\n",
    "\n",
    "##### Maxwell Kennady, Nora Murray, Elizabeth Speigle"
   ]
  },
  {
   "cell_type": "code",
   "execution_count": 1,
   "metadata": {},
   "outputs": [],
   "source": [
    "import pandas as pd\n",
    "import numpy as np\n",
    "import matplotlib.pyplot as plt\n",
    "import pickle\n",
    "%matplotlib inline"
   ]
  },
  {
   "cell_type": "code",
   "execution_count": 2,
   "metadata": {},
   "outputs": [],
   "source": [
    "distances = pd.read_csv('data/OD_Pairs_Distances.csv')\n",
    "population = pd.read_excel('data/BG_master.xlsx')\n",
    "bg_included = pd.read_csv('data/bg_pop_included.csv')\n",
    "pods = pd.read_csv('data/POD_ids.csv')"
   ]
  },
  {
   "cell_type": "code",
   "execution_count": 3,
   "metadata": {},
   "outputs": [],
   "source": [
    "dist_miles = distances.pivot(index='block_group', columns='pod_id', values='Miles')"
   ]
  },
  {
   "cell_type": "code",
   "execution_count": 4,
   "metadata": {},
   "outputs": [],
   "source": [
    "dist = dist_miles.values\n",
    "N = population['population'].values\n",
    "prop = bg_included['all_included'].values"
   ]
  },
  {
   "cell_type": "code",
   "execution_count": 5,
   "metadata": {},
   "outputs": [],
   "source": [
    "infile = open('pods_open_total','rb')\n",
    "pods_total = pickle.load(infile)\n",
    "infile.close()"
   ]
  },
  {
   "cell_type": "code",
   "execution_count": 6,
   "metadata": {},
   "outputs": [],
   "source": [
    "infile = open('pods_open_minmax','rb')\n",
    "pods_minmax = pickle.load(infile)\n",
    "infile.close()"
   ]
  },
  {
   "cell_type": "markdown",
   "metadata": {},
   "source": [
    "### Comparing average and maximum distance by PODs opened"
   ]
  },
  {
   "cell_type": "code",
   "execution_count": null,
   "metadata": {},
   "outputs": [],
   "source": [
    "dist_compare = {'num_pods':[],\n",
    "                'max_dist_total':[],\n",
    "                'max_dist_minmax':[],\n",
    "                'avg_dist_total':[],\n",
    "                'avg_dist_minmax':[]}\n",
    "\n",
    "for k in pods_total.keys():\n",
    "    dist_compare['num_pods'].append(k)\n",
    "    \n",
    "    # Minimize total distance\n",
    "    total_list = [N[j] * [dist[j,i]] for [j,i] in pods_total[k]]\n",
    "    total_list_flat = [item for sublist in total_list for item in sublist]\n",
    "    avg_total = sum(total_list_flat)/len(total_list_flat)\n",
    "    max_total = max(total_list_flat)\n",
    "    \n",
    "    # Minimize maximum distance\n",
    "    minmax_list = [N[j] * [dist[j,i]] for [j,i] in pods_minmax[k]]\n",
    "    minmax_list_flat = [item for sublist in minmax_list for item in sublist]\n",
    "    avg_minmax = sum(minmax_list_flat)/len(minmax_list_flat)\n",
    "    max_minmax = max(minmax_list_flat)\n",
    "    \n",
    "    dist_compare['max_dist_total'].append(max_total)\n",
    "    dist_compare['max_dist_minmax'].append(max_minmax)\n",
    "    dist_compare['avg_dist_total'].append(avg_total)\n",
    "    dist_compare['avg_dist_minmax'].append(avg_minmax)"
   ]
  },
  {
   "cell_type": "code",
   "execution_count": null,
   "metadata": {},
   "outputs": [],
   "source": [
    "dist_df = pd.DataFrame(dist_compare)"
   ]
  },
  {
   "cell_type": "code",
   "execution_count": null,
   "metadata": {},
   "outputs": [],
   "source": [
    "dist_df.head()"
   ]
  },
  {
   "cell_type": "code",
   "execution_count": null,
   "metadata": {},
   "outputs": [],
   "source": [
    "cols = ['max_dist_total','max_dist_minmax','avg_dist_total','avg_dist_minmax']"
   ]
  },
  {
   "cell_type": "code",
   "execution_count": null,
   "metadata": {},
   "outputs": [],
   "source": [
    "plt.plot(dist_df['num_pods'], dist_df[cols])\n",
    "plt.title('Distance by Number of PODs Opened')\n",
    "# add axis labels\n",
    "plt.legend(cols)\n",
    "plt.ylim(0, 13)\n",
    "plt.show()"
   ]
  },
  {
   "cell_type": "code",
   "execution_count": null,
   "metadata": {},
   "outputs": [],
   "source": [
    "cols = ['max_dist_total','avg_dist_total']"
   ]
  },
  {
   "cell_type": "code",
   "execution_count": null,
   "metadata": {},
   "outputs": [],
   "source": [
    "plt.plot(dist_df['num_pods'], dist_df[cols])\n",
    "plt.title('Distance by Number of PODs Opened - Total Distance Models')\n",
    "plt.legend(cols)\n",
    "plt.grid(b=True, which='major', color='#D3D3D3', linestyle='--')\n",
    "plt.ylim(0, 13)\n",
    "plt.show()"
   ]
  },
  {
   "cell_type": "code",
   "execution_count": null,
   "metadata": {},
   "outputs": [],
   "source": [
    "cols = ['max_dist_minmax','avg_dist_minmax']"
   ]
  },
  {
   "cell_type": "code",
   "execution_count": null,
   "metadata": {},
   "outputs": [],
   "source": [
    "plt.plot(dist_df['num_pods'], dist_df[cols])\n",
    "plt.title('Distance by Number of PODs Opened - Minimax Models')\n",
    "plt.legend(cols)\n",
    "plt.grid(b=True, which='major', color='#D3D3D3', linestyle='--')\n",
    "plt.ylim(0, 13)\n",
    "plt.show()"
   ]
  },
  {
   "cell_type": "markdown",
   "metadata": {},
   "source": [
    "### Histograms"
   ]
  },
  {
   "cell_type": "code",
   "execution_count": 13,
   "metadata": {},
   "outputs": [],
   "source": [
    "# Get count of number of times each POD is in a solution given 10-47 PODs open\n",
    "\n",
    "pods_open = []\n",
    "hist_list = []\n",
    "\n",
    "for p in pods_total.keys():\n",
    "    for i in pods_total[p]:\n",
    "        pods_open.append(i[1])\n",
    "    hist_list.append(list(set(pods_open)))\n",
    "    pods_open = []\n",
    "\n",
    "\n",
    "# count number of times each POD is in solution\n",
    "pod_ids = list(np.arange(0,47))\n",
    "\n",
    "pod_count = [0] * 47\n",
    "\n",
    "for i in hist_list:\n",
    "    for v in pod_ids:\n",
    "        if (v in i):\n",
    "            pod_count[v] += 1 "
   ]
  },
  {
   "cell_type": "code",
   "execution_count": 14,
   "metadata": {},
   "outputs": [
    {
     "data": {
      "text/html": [
       "<div>\n",
       "<style scoped>\n",
       "    .dataframe tbody tr th:only-of-type {\n",
       "        vertical-align: middle;\n",
       "    }\n",
       "\n",
       "    .dataframe tbody tr th {\n",
       "        vertical-align: top;\n",
       "    }\n",
       "\n",
       "    .dataframe thead th {\n",
       "        text-align: right;\n",
       "    }\n",
       "</style>\n",
       "<table border=\"1\" class=\"dataframe\">\n",
       "  <thead>\n",
       "    <tr style=\"text-align: right;\">\n",
       "      <th></th>\n",
       "      <th>id</th>\n",
       "      <th>site</th>\n",
       "      <th>solution_count</th>\n",
       "    </tr>\n",
       "  </thead>\n",
       "  <tbody>\n",
       "    <tr>\n",
       "      <th>23</th>\n",
       "      <td>24</td>\n",
       "      <td>NORTH ALLEGHENY HIGH SCHOOL</td>\n",
       "      <td>38</td>\n",
       "    </tr>\n",
       "    <tr>\n",
       "      <th>29</th>\n",
       "      <td>30</td>\n",
       "      <td>PITTBURGH OBAMA 6-12</td>\n",
       "      <td>38</td>\n",
       "    </tr>\n",
       "    <tr>\n",
       "      <th>22</th>\n",
       "      <td>23</td>\n",
       "      <td>MT. LEBANON HIGH SCHOOL</td>\n",
       "      <td>38</td>\n",
       "    </tr>\n",
       "    <tr>\n",
       "      <th>19</th>\n",
       "      <td>20</td>\n",
       "      <td>MCKEESPORT AREA HIGH SCHOOL</td>\n",
       "      <td>38</td>\n",
       "    </tr>\n",
       "    <tr>\n",
       "      <th>17</th>\n",
       "      <td>18</td>\n",
       "      <td>HIGHLANDS HIGH SCHOOL</td>\n",
       "      <td>38</td>\n",
       "    </tr>\n",
       "    <tr>\n",
       "      <th>16</th>\n",
       "      <td>17</td>\n",
       "      <td>HAMPTON HIGH SCHOOL</td>\n",
       "      <td>38</td>\n",
       "    </tr>\n",
       "    <tr>\n",
       "      <th>40</th>\n",
       "      <td>41</td>\n",
       "      <td>STO-ROX SR HIGH SCHOOL</td>\n",
       "      <td>37</td>\n",
       "    </tr>\n",
       "    <tr>\n",
       "      <th>21</th>\n",
       "      <td>22</td>\n",
       "      <td>MOON AREA HIGH SCHOOL</td>\n",
       "      <td>37</td>\n",
       "    </tr>\n",
       "    <tr>\n",
       "      <th>15</th>\n",
       "      <td>16</td>\n",
       "      <td>GATEWAY HIGH SCHOOL</td>\n",
       "      <td>36</td>\n",
       "    </tr>\n",
       "    <tr>\n",
       "      <th>33</th>\n",
       "      <td>34</td>\n",
       "      <td>RIVERVIEW SENIOR HIGH SCHOOL</td>\n",
       "      <td>35</td>\n",
       "    </tr>\n",
       "    <tr>\n",
       "      <th>27</th>\n",
       "      <td>28</td>\n",
       "      <td>PERRY HIGH SCHOOL</td>\n",
       "      <td>34</td>\n",
       "    </tr>\n",
       "    <tr>\n",
       "      <th>39</th>\n",
       "      <td>40</td>\n",
       "      <td>STEEL VALLEY SENIOR HIGH SCHOOL</td>\n",
       "      <td>33</td>\n",
       "    </tr>\n",
       "    <tr>\n",
       "      <th>46</th>\n",
       "      <td>47</td>\n",
       "      <td>WOODLAND HILLS HIGH SCHOOL</td>\n",
       "      <td>33</td>\n",
       "    </tr>\n",
       "    <tr>\n",
       "      <th>6</th>\n",
       "      <td>7</td>\n",
       "      <td>CARRICK HIGH SCHOOL</td>\n",
       "      <td>32</td>\n",
       "    </tr>\n",
       "    <tr>\n",
       "      <th>42</th>\n",
       "      <td>43</td>\n",
       "      <td>UPPER ST CLAIR HIGH SCHOOL</td>\n",
       "      <td>32</td>\n",
       "    </tr>\n",
       "    <tr>\n",
       "      <th>43</th>\n",
       "      <td>44</td>\n",
       "      <td>WEST ALLEGHENY HIGH SCHOOL</td>\n",
       "      <td>31</td>\n",
       "    </tr>\n",
       "    <tr>\n",
       "      <th>30</th>\n",
       "      <td>31</td>\n",
       "      <td>PITTSBURGH ALLDERDICE HIGH</td>\n",
       "      <td>29</td>\n",
       "    </tr>\n",
       "    <tr>\n",
       "      <th>24</th>\n",
       "      <td>25</td>\n",
       "      <td>NORTH HILLS SENIOR HIGH</td>\n",
       "      <td>28</td>\n",
       "    </tr>\n",
       "    <tr>\n",
       "      <th>3</th>\n",
       "      <td>4</td>\n",
       "      <td>BRASHEAR HIGH SCHOOL</td>\n",
       "      <td>28</td>\n",
       "    </tr>\n",
       "    <tr>\n",
       "      <th>8</th>\n",
       "      <td>9</td>\n",
       "      <td>CLAIRTON JR SR HIGH SCHOOL</td>\n",
       "      <td>28</td>\n",
       "    </tr>\n",
       "    <tr>\n",
       "      <th>1</th>\n",
       "      <td>2</td>\n",
       "      <td>BALDWIN HIGH SCHOOL</td>\n",
       "      <td>28</td>\n",
       "    </tr>\n",
       "    <tr>\n",
       "      <th>34</th>\n",
       "      <td>35</td>\n",
       "      <td>SHALER AREA HIGH SCHOOL</td>\n",
       "      <td>27</td>\n",
       "    </tr>\n",
       "    <tr>\n",
       "      <th>41</th>\n",
       "      <td>42</td>\n",
       "      <td>THOMAS JEFFERSON HIGH SCHOOL</td>\n",
       "      <td>26</td>\n",
       "    </tr>\n",
       "    <tr>\n",
       "      <th>31</th>\n",
       "      <td>32</td>\n",
       "      <td>PLUM SENIOR HIGH SCHOOL</td>\n",
       "      <td>25</td>\n",
       "    </tr>\n",
       "    <tr>\n",
       "      <th>36</th>\n",
       "      <td>37</td>\n",
       "      <td>SOUTH FAYETTE HIGH SCHOOL</td>\n",
       "      <td>24</td>\n",
       "    </tr>\n",
       "    <tr>\n",
       "      <th>32</th>\n",
       "      <td>33</td>\n",
       "      <td>QUAKER VALLEY HIGH SCHOOL</td>\n",
       "      <td>23</td>\n",
       "    </tr>\n",
       "    <tr>\n",
       "      <th>25</th>\n",
       "      <td>26</td>\n",
       "      <td>NORTHGATE JR SR HIGH</td>\n",
       "      <td>22</td>\n",
       "    </tr>\n",
       "    <tr>\n",
       "      <th>10</th>\n",
       "      <td>11</td>\n",
       "      <td>DEER LAKES SENIOR HIGH</td>\n",
       "      <td>22</td>\n",
       "    </tr>\n",
       "    <tr>\n",
       "      <th>26</th>\n",
       "      <td>27</td>\n",
       "      <td>PENN HILLS SENIOR HIGH</td>\n",
       "      <td>21</td>\n",
       "    </tr>\n",
       "    <tr>\n",
       "      <th>45</th>\n",
       "      <td>46</td>\n",
       "      <td>WILKINSBURG HIGH SCHOOL</td>\n",
       "      <td>21</td>\n",
       "    </tr>\n",
       "    <tr>\n",
       "      <th>28</th>\n",
       "      <td>29</td>\n",
       "      <td>PINE RICHLAND HIGH SCHOOL</td>\n",
       "      <td>16</td>\n",
       "    </tr>\n",
       "    <tr>\n",
       "      <th>13</th>\n",
       "      <td>14</td>\n",
       "      <td>ELIZABETH FORWARD SR HIGH</td>\n",
       "      <td>15</td>\n",
       "    </tr>\n",
       "    <tr>\n",
       "      <th>9</th>\n",
       "      <td>10</td>\n",
       "      <td>CORNELL JR/SR HIGH SCHOOL</td>\n",
       "      <td>15</td>\n",
       "    </tr>\n",
       "    <tr>\n",
       "      <th>2</th>\n",
       "      <td>3</td>\n",
       "      <td>BETHEL PARK SR HIGH SCHOOL</td>\n",
       "      <td>13</td>\n",
       "    </tr>\n",
       "    <tr>\n",
       "      <th>7</th>\n",
       "      <td>8</td>\n",
       "      <td>CHARTIERS VALLEY SR HIGH</td>\n",
       "      <td>12</td>\n",
       "    </tr>\n",
       "    <tr>\n",
       "      <th>20</th>\n",
       "      <td>21</td>\n",
       "      <td>MONTOUR HIGH SCHOOL</td>\n",
       "      <td>12</td>\n",
       "    </tr>\n",
       "    <tr>\n",
       "      <th>11</th>\n",
       "      <td>12</td>\n",
       "      <td>DUQUESNE CITY  SCHOOL (Elem)</td>\n",
       "      <td>11</td>\n",
       "    </tr>\n",
       "    <tr>\n",
       "      <th>14</th>\n",
       "      <td>15</td>\n",
       "      <td>FOX CHAPEL AREA HIGH SCHOOL</td>\n",
       "      <td>10</td>\n",
       "    </tr>\n",
       "    <tr>\n",
       "      <th>5</th>\n",
       "      <td>6</td>\n",
       "      <td>CARLYNTON SENIOR HIGH</td>\n",
       "      <td>10</td>\n",
       "    </tr>\n",
       "    <tr>\n",
       "      <th>38</th>\n",
       "      <td>39</td>\n",
       "      <td>SPRINGDALE JR SR HIGH SCHOOL</td>\n",
       "      <td>9</td>\n",
       "    </tr>\n",
       "    <tr>\n",
       "      <th>35</th>\n",
       "      <td>36</td>\n",
       "      <td>SOUTH ALLEGHENY HIGH SCHOOL</td>\n",
       "      <td>8</td>\n",
       "    </tr>\n",
       "    <tr>\n",
       "      <th>4</th>\n",
       "      <td>5</td>\n",
       "      <td>BRENTWOOD JR SR HIGH SCHOOL</td>\n",
       "      <td>7</td>\n",
       "    </tr>\n",
       "    <tr>\n",
       "      <th>18</th>\n",
       "      <td>19</td>\n",
       "      <td>KEYSTONE OAKS HIGH SCHOOL</td>\n",
       "      <td>7</td>\n",
       "    </tr>\n",
       "    <tr>\n",
       "      <th>12</th>\n",
       "      <td>13</td>\n",
       "      <td>EAST ALLEGHENY JR SR HIGH</td>\n",
       "      <td>6</td>\n",
       "    </tr>\n",
       "    <tr>\n",
       "      <th>0</th>\n",
       "      <td>1</td>\n",
       "      <td>AVONWORTH HIGH SCHOOL</td>\n",
       "      <td>5</td>\n",
       "    </tr>\n",
       "    <tr>\n",
       "      <th>37</th>\n",
       "      <td>38</td>\n",
       "      <td>SOUTH PARK SENIOR HIGH</td>\n",
       "      <td>4</td>\n",
       "    </tr>\n",
       "    <tr>\n",
       "      <th>44</th>\n",
       "      <td>45</td>\n",
       "      <td>WEST MIFFLIN AREA HIGH SCHOOL</td>\n",
       "      <td>2</td>\n",
       "    </tr>\n",
       "  </tbody>\n",
       "</table>\n",
       "</div>"
      ],
      "text/plain": [
       "    id                             site  solution_count\n",
       "23  24      NORTH ALLEGHENY HIGH SCHOOL              38\n",
       "29  30             PITTBURGH OBAMA 6-12              38\n",
       "22  23          MT. LEBANON HIGH SCHOOL              38\n",
       "19  20      MCKEESPORT AREA HIGH SCHOOL              38\n",
       "17  18            HIGHLANDS HIGH SCHOOL              38\n",
       "16  17              HAMPTON HIGH SCHOOL              38\n",
       "40  41           STO-ROX SR HIGH SCHOOL              37\n",
       "21  22            MOON AREA HIGH SCHOOL              37\n",
       "15  16              GATEWAY HIGH SCHOOL              36\n",
       "33  34     RIVERVIEW SENIOR HIGH SCHOOL              35\n",
       "27  28                PERRY HIGH SCHOOL              34\n",
       "39  40  STEEL VALLEY SENIOR HIGH SCHOOL              33\n",
       "46  47       WOODLAND HILLS HIGH SCHOOL              33\n",
       "6    7              CARRICK HIGH SCHOOL              32\n",
       "42  43       UPPER ST CLAIR HIGH SCHOOL              32\n",
       "43  44       WEST ALLEGHENY HIGH SCHOOL              31\n",
       "30  31      PITTSBURGH ALLDERDICE HIGH               29\n",
       "24  25          NORTH HILLS SENIOR HIGH              28\n",
       "3    4             BRASHEAR HIGH SCHOOL              28\n",
       "8    9       CLAIRTON JR SR HIGH SCHOOL              28\n",
       "1    2              BALDWIN HIGH SCHOOL              28\n",
       "34  35          SHALER AREA HIGH SCHOOL              27\n",
       "41  42     THOMAS JEFFERSON HIGH SCHOOL              26\n",
       "31  32          PLUM SENIOR HIGH SCHOOL              25\n",
       "36  37        SOUTH FAYETTE HIGH SCHOOL              24\n",
       "32  33        QUAKER VALLEY HIGH SCHOOL              23\n",
       "25  26             NORTHGATE JR SR HIGH              22\n",
       "10  11           DEER LAKES SENIOR HIGH              22\n",
       "26  27           PENN HILLS SENIOR HIGH              21\n",
       "45  46          WILKINSBURG HIGH SCHOOL              21\n",
       "28  29        PINE RICHLAND HIGH SCHOOL              16\n",
       "13  14        ELIZABETH FORWARD SR HIGH              15\n",
       "9   10        CORNELL JR/SR HIGH SCHOOL              15\n",
       "2    3       BETHEL PARK SR HIGH SCHOOL              13\n",
       "7    8         CHARTIERS VALLEY SR HIGH              12\n",
       "20  21              MONTOUR HIGH SCHOOL              12\n",
       "11  12     DUQUESNE CITY  SCHOOL (Elem)              11\n",
       "14  15      FOX CHAPEL AREA HIGH SCHOOL              10\n",
       "5    6            CARLYNTON SENIOR HIGH              10\n",
       "38  39     SPRINGDALE JR SR HIGH SCHOOL               9\n",
       "35  36      SOUTH ALLEGHENY HIGH SCHOOL               8\n",
       "4    5      BRENTWOOD JR SR HIGH SCHOOL               7\n",
       "18  19        KEYSTONE OAKS HIGH SCHOOL               7\n",
       "12  13        EAST ALLEGHENY JR SR HIGH               6\n",
       "0    1            AVONWORTH HIGH SCHOOL               5\n",
       "37  38           SOUTH PARK SENIOR HIGH               4\n",
       "44  45    WEST MIFFLIN AREA HIGH SCHOOL               2"
      ]
     },
     "execution_count": 14,
     "metadata": {},
     "output_type": "execute_result"
    }
   ],
   "source": [
    "pods[\"solution_count\"] = pod_count\n",
    "pods.reindex(columns=[\"id\",\"site\",\"solution_count\"]).sort_values(by=[\"solution_count\"], axis=0, ascending=False)"
   ]
  },
  {
   "cell_type": "code",
   "execution_count": 15,
   "metadata": {},
   "outputs": [
    {
     "data": {
      "image/png": "[encoded data removed]",
      "text/plain": [
       "<Figure size 432x288 with 1 Axes>"
      ]
     },
     "metadata": {
      "needs_background": "light"
     },
     "output_type": "display_data"
    }
   ],
   "source": [
    "plt.bar(pod_ids, pod_count, align='center', alpha=0.7)\n",
    "plt.ylabel('Incidence')\n",
    "plt.xlabel('POD ID')\n",
    "plt.title('POD count')\n",
    "plt.show()"
   ]
  },
  {
   "cell_type": "markdown",
   "metadata": {},
   "source": [
    "### Population"
   ]
  },
  {
   "cell_type": "code",
   "execution_count": null,
   "metadata": {
    "scrolled": false
   },
   "outputs": [],
   "source": [
    "population.head()"
   ]
  },
  {
   "cell_type": "code",
   "execution_count": null,
   "metadata": {
    "scrolled": true
   },
   "outputs": [],
   "source": [
    "# set number of pods to open (10-47)\n",
    "num_pods_open = 20\n",
    "\n",
    "#Merge population and pod data frames\n",
    "pods_open = pd.DataFrame(pods_total[num_pods_open])\n",
    "pods_open.columns = [\"bg\",\"pod\"]\n",
    "\n",
    "pods_open = pd.merge(population,\n",
    "                     pods_open,\n",
    "                     left_on = 'bg_id',\n",
    "                     right_on = 'bg',\n",
    "                     how = 'left')\n",
    "\n",
    "pods_open.head()"
   ]
  },
  {
   "cell_type": "code",
   "execution_count": null,
   "metadata": {},
   "outputs": [],
   "source": [
    "pods_open = pods_open.groupby(\"pod\").population.sum().reset_index()\n",
    "\n",
    "plt.bar(pods_open['pod'], pods_open['population'],align='center', alpha=0.7)\n",
    "plt.ylabel('Population')\n",
    "plt.xlabel('POD ID')\n",
    "plt.title('Total population served by each POD')\n",
    "plt.show()\n",
    "\n",
    "print(\"The average number of people served by a POD is\",  \"{:,.0f}\".format(np.average(pods_by_pop['population'])))"
   ]
  },
  {
   "cell_type": "markdown",
   "metadata": {},
   "source": [
    "### Number of cars and distance between block group and PODs"
   ]
  },
  {
   "cell_type": "code",
   "execution_count": null,
   "metadata": {},
   "outputs": [],
   "source": [
    "# analysis on number of hhs with no car and distance between block group and POD\n",
    "# avg distance between POD and its selected BGs"
   ]
  },
  {
   "cell_type": "code",
   "execution_count": null,
   "metadata": {},
   "outputs": [],
   "source": [
    "pods_open = pd.DataFrame(pods_total[num_pods_open])\n",
    "pods_open.columns = [\"bg\",\"pod\"]\n",
    "pods_open.head()"
   ]
  },
  {
   "cell_type": "code",
   "execution_count": null,
   "metadata": {},
   "outputs": [],
   "source": [
    "bg_pod_dist = []\n",
    "    \n",
    "for i in np.arange(0,len(pods_open)):    \n",
    "    bg_pod_dist.append(dist_miles.iloc[pods_open.iloc[i,0],(pods_open.iloc[i,1]-1)])\n",
    "\n",
    "bg_pod_dist = pd.merge(pods_open, \n",
    "                pd.DataFrame(bg_pod_dist), \n",
    "                left_index=True, \n",
    "                right_index=True)\n",
    "\n",
    "bg_pod_dist.columns = [\"bg\",\"pod\",\"distance\"]"
   ]
  },
  {
   "cell_type": "code",
   "execution_count": null,
   "metadata": {},
   "outputs": [],
   "source": [
    "bg_pod_dist = pd.merge(population,\n",
    "                bg_pod_dist,\n",
    "                left_on = 'bg_id',\n",
    "                right_on = 'bg',\n",
    "                how = 'left')\n",
    "\n",
    "# calculate proportion of households with no car\n",
    "bg_pod_dist['prop_hh_no_car'] = bg_pod_dist['hh_no_car']/bg_pod_dist['num_hhs']\n",
    "bg_pod_dist.head()"
   ]
  },
  {
   "cell_type": "code",
   "execution_count": null,
   "metadata": {},
   "outputs": [],
   "source": [
    "pod_no_car = bg_pod_dist.groupby(\"pod\").hh_no_car.sum().reset_index()\n",
    "print(pod_no_car)\n",
    "\n",
    "plt.bar(pod_no_car['pod'], pod_no_car['hh_no_car'],align='center', alpha=0.7)\n",
    "plt.ylabel('Number of HHs with No Car')\n",
    "plt.xlabel('POD ID')\n",
    "plt.title('Number of Households with No Access to Car by POD')\n",
    "plt.show()\n",
    "\n",
    "# reword and edit/add POD id #\n",
    "print(\"The average number of households with no car is\",  \"{:,.0f}\".format(np.average(pod_no_car['hh_no_car'])))\n",
    "print(\"Of these PODs, POD X has the highest number of households with no car:\",  \"{:,.0f}\".format(np.max(pod_no_car['hh_no_car'])))\n",
    "print(\"Of these PODs, POD X has the lowest number of households with no car is\",  \"{:,.0f}\".format(np.min(pod_no_car['hh_no_car'])))"
   ]
  },
  {
   "cell_type": "code",
   "execution_count": null,
   "metadata": {},
   "outputs": [],
   "source": [
    "pod_prop_no_car = bg_pod_dist.groupby(\"pod\").prop_hh_no_car.mean().reset_index()\n",
    "print(pod_prop_no_car)\n",
    "\n",
    "plt.bar(pod_prop_no_car['pod'], pod_prop_no_car['prop_hh_no_car'],align='center', alpha=0.7)\n",
    "plt.ylabel('Percentage')\n",
    "plt.xlabel('POD ID')\n",
    "plt.title('Percent of Households with No Access to Car by POD')\n",
    "plt.show()\n",
    "\n",
    "# reword and edit/add POD id #\n",
    "print(\"Average percentage of households with no car is\",  \"{:,.2f}\".format(np.average(pod_prop_no_car['prop_hh_no_car'])), \".\")\n",
    "print(\"The POD with the highest percentage of households with no car is\",  \"{:,.2f}\".format(np.max(pod_prop_no_car['prop_hh_no_car'])), \"by POD X.\")\n",
    "print(\"The POD with the lowest percentage of households with no car is\",  \"{:,.2f}\".format(np.min(pod_prop_no_car['prop_hh_no_car'])), \"by POD X.\")"
   ]
  },
  {
   "cell_type": "code",
   "execution_count": null,
   "metadata": {},
   "outputs": [],
   "source": [
    "pod_dist = bg_pod_dist.groupby(\"pod\").distance.mean().reset_index()\n",
    "print(pod_dist)\n",
    "\n",
    "plt.bar(pod_dist['pod'], pod_dist['distance'],align='center', alpha=0.7)\n",
    "plt.ylabel('Distance (miles)')\n",
    "plt.xlabel('POD ID')\n",
    "plt.title('Average Distance between POD and Assigned Block Groups (Miles)')\n",
    "plt.show()\n",
    "\n",
    "# add POD id #\n",
    "print(\"The average distance between a POD and Block Group is\",  \"{:,.2f}\".format(np.average(pod_dist[\"distance\"])), \"miles\")\n",
    "print(\"POD X has the lowest average distance between POD and block group at\",  \"{:,.2f}\".format(np.min(pod_dist[\"distance\"])), \"miles\")\n",
    "print(\"POD X has the highest average distance between POD and block group at\",  \"{:,.2f}\".format(np.max(pod_dist[\"distance\"])), \"miles\")\n"
   ]
  },
  {
   "cell_type": "markdown",
   "metadata": {},
   "source": [
    "### POD capacity"
   ]
  },
  {
   "cell_type": "code",
   "execution_count": null,
   "metadata": {},
   "outputs": [],
   "source": [
    "# capacity_pod_all = [[N[j], i] for [j,i] in block_pod_list]"
   ]
  },
  {
   "cell_type": "code",
   "execution_count": null,
   "metadata": {},
   "outputs": [],
   "source": [
    "# capacity_pod = {}\n",
    "# for [N, i] in capacity_pod_all:\n",
    "#     if i not in capacity_pod:\n",
    "#         capacity_pod[i] = N\n",
    "#     else:\n",
    "#         capacity_pod[i] += N"
   ]
  },
  {
   "cell_type": "code",
   "execution_count": null,
   "metadata": {},
   "outputs": [],
   "source": [
    "# max(capacity_pod.values())"
   ]
  },
  {
   "cell_type": "code",
   "execution_count": null,
   "metadata": {},
   "outputs": [],
   "source": [
    "# min(capacity_pod.values())"
   ]
  },
  {
   "cell_type": "code",
   "execution_count": null,
   "metadata": {},
   "outputs": [],
   "source": []
  }
 ],
 "metadata": {
  "kernelspec": {
   "display_name": "Python 3",
   "language": "python",
   "name": "python3"
  },
  "language_info": {
   "codemirror_mode": {
    "name": "ipython",
    "version": 3
   },
   "file_extension": ".py",
   "mimetype": "text/x-python",
   "name": "python",
   "nbconvert_exporter": "python",
   "pygments_lexer": "ipython3",
   "version": "3.7.1"
  }
 },
 "nbformat": 4,
 "nbformat_minor": 4
}
